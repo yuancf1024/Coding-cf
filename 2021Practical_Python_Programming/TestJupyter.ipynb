{
 "cells": [
  {
   "cell_type": "code",
   "execution_count": 2,
   "metadata": {},
   "outputs": [
    {
     "name": "stdout",
     "output_type": "stream",
     "text": [
      "Hello World!\n"
     ]
    }
   ],
   "source": [
    "print(\"Hello World!\")"
   ]
  },
  {
   "cell_type": "code",
   "execution_count": 3,
   "metadata": {},
   "outputs": [
    {
     "name": "stdout",
     "output_type": "stream",
     "text": [
      " Volume in drive D is Data\n",
      " Volume Serial Number is 4248-79E8\n",
      "\n",
      " Directory of d:\\Coding-cf\\2021Practical_Python_Programming\n",
      "\n",
      "2021/11/16  23:22    <DIR>          .\n",
      "2021/11/16  23:22    <DIR>          ..\n",
      "2021/11/16  23:22            24,080 2021-11Python编程与实践.md\n",
      "2021/11/16  19:31                78 2021-11答疑.md\n",
      "2021/11/16  21:39             1,725 Lecture1_2021_10_20intro.py\n",
      "2021/11/16  20:58           248,523 mementopython3-english (1).pdf\n",
      "2021/11/16  23:31               109 pass_gen.py\n",
      "2021/11/16  23:33             2,309 TestJupyter.ipynb\n",
      "               6 File(s)        276,824 bytes\n",
      "               2 Dir(s)  141,630,562,304 bytes free\n"
     ]
    }
   ],
   "source": [
    "ls"
   ]
  },
  {
   "cell_type": "code",
   "execution_count": 4,
   "metadata": {},
   "outputs": [
    {
     "data": {
      "text/plain": [
       "'d:\\\\Coding-cf\\\\2021Practical_Python_Programming'"
      ]
     },
     "execution_count": 4,
     "metadata": {},
     "output_type": "execute_result"
    }
   ],
   "source": [
    "pwd"
   ]
  },
  {
   "cell_type": "code",
   "execution_count": 5,
   "metadata": {},
   "outputs": [],
   "source": [
    "a = 1"
   ]
  },
  {
   "cell_type": "code",
   "execution_count": 7,
   "metadata": {},
   "outputs": [
    {
     "name": "stdout",
     "output_type": "stream",
     "text": [
      "Hello\n"
     ]
    }
   ],
   "source": [
    "print('Hello')"
   ]
  },
  {
   "cell_type": "code",
   "execution_count": 8,
   "metadata": {},
   "outputs": [],
   "source": [
    "user_password = input(\"请输入新密码：\")"
   ]
  },
  {
   "cell_type": "code",
   "execution_count": null,
   "metadata": {},
   "outputs": [],
   "source": []
  }
 ],
 "metadata": {
  "interpreter": {
   "hash": "4e70ce599fb222b7238fc4d719d5b4c73d230cafa4bd9f3e8119321c149fe220"
  },
  "kernelspec": {
   "display_name": "Python 3.8.3 64-bit ('lpthw': venv)",
   "name": "python3"
  },
  "language_info": {
   "codemirror_mode": {
    "name": "ipython",
    "version": 3
   },
   "file_extension": ".py",
   "mimetype": "text/x-python",
   "name": "python",
   "nbconvert_exporter": "python",
   "pygments_lexer": "ipython3",
   "version": "3.8.3"
  },
  "orig_nbformat": 4
 },
 "nbformat": 4,
 "nbformat_minor": 2
}
