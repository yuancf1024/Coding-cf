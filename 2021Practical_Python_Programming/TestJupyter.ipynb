{
 "cells": [
  {
   "cell_type": "code",
   "execution_count": 1,
   "metadata": {},
   "outputs": [
    {
     "name": "stdout",
     "output_type": "stream",
     "text": [
      "Hello World!\n"
     ]
    }
   ],
   "source": [
    "print(\"Hello World!\")"
   ]
  },
  {
   "cell_type": "code",
   "execution_count": 5,
   "metadata": {},
   "outputs": [
    {
     "name": "stdout",
     "output_type": "stream",
     "text": [
      " ������ D �еľ��� Data\n",
      " �������к��� 4248-79E8\n",
      "\n",
      " d:\\Coding-cf\\2021Python�����ʵ�� ��Ŀ¼\n",
      "\n",
      "2021/10/20  20:43    <DIR>          .\n",
      "2021/10/20  20:43    <DIR>          ..\n",
      "2021/10/20  20:40               192 Lecture1_2021_10_20intro.py\n",
      "2021/10/20  20:44             2,077 TestJupyter.ipynb\n",
      "               2 ���ļ�          2,269 �ֽ�\n",
      "               2 ��Ŀ¼ 150,600,622,080 �����ֽ�\n"
     ]
    }
   ],
   "source": [
    "ls"
   ]
  },
  {
   "cell_type": "code",
   "execution_count": 4,
   "metadata": {},
   "outputs": [
    {
     "data": {
      "text/plain": [
       "'d:\\\\Coding-cf\\\\2021Python编程与实践'"
      ]
     },
     "execution_count": 4,
     "metadata": {},
     "output_type": "execute_result"
    }
   ],
   "source": [
    "pwd"
   ]
  },
  {
   "cell_type": "code",
   "execution_count": null,
   "metadata": {},
   "outputs": [],
   "source": []
  }
 ],
 "metadata": {
  "interpreter": {
   "hash": "4e70ce599fb222b7238fc4d719d5b4c73d230cafa4bd9f3e8119321c149fe220"
  },
  "kernelspec": {
   "display_name": "Python 3.8.3 64-bit ('lpthw': venv)",
   "name": "python3"
  },
  "language_info": {
   "codemirror_mode": {
    "name": "ipython",
    "version": 3
   },
   "file_extension": ".py",
   "mimetype": "text/x-python",
   "name": "python",
   "nbconvert_exporter": "python",
   "pygments_lexer": "ipython3",
   "version": "3.8.3"
  },
  "orig_nbformat": 4
 },
 "nbformat": 4,
 "nbformat_minor": 2
}
