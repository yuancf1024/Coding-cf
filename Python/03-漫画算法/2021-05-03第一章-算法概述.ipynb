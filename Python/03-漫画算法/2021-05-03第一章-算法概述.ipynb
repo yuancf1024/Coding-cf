{
 "cells": [
  {
   "cell_type": "markdown",
   "metadata": {},
   "source": [
    "# 2021-05-03第一章-算法概述\n",
    "\n",
    "**漫画算法 小灰的算法之旅**\n",
    "**作者：魏梦舒**\n",
    "\n",
    "**Date**: 2021-05-03 21：20\n",
    "\n",
    "**Author**: chenfengyuan\n",
    "\n",
    "**E-mail**: chenfengyuan@cqu.edu.cn\n",
    "\n",
    "**Goal**: 算法基础入门"
   ]
  },
  {
   "cell_type": "markdown",
   "metadata": {},
   "source": [
    "## 1.1 算法和数据结构\n",
    "\n",
    "### 1.1.2 什么是算法\n",
    "\n",
    "算法：\n",
    "* 数学领域：用于解决某一类问题的公式和思想。\n",
    "* 计算机科学领域：本质是一系列程序指令，用于解决特定的运算和逻辑问题。\n",
    "\n",
    "算法的应用场景：\n",
    "1. 运算\n",
    "2. 查找\n",
    "3. 排序\n",
    "4. 最佳决策\n",
    "5. 面试\n",
    "\n",
    "### 1.1.3 什么是数据结构\n",
    "\n",
    "数据结构，对应的英文单词是data structure,是数据的组织、管理和存储格式，其使用目的是高效地访问和修改数据。\n",
    "\n",
    "1. **线性结构**\n",
    "线性结构是最简单的数据结构，包括数组、链表，以及由它们衍生出来的栈、队列、哈希表。\n",
    "2. **树**\n",
    "树是相对复杂的数据结构，其中比较有代表性的是二叉树，由它衍生出了二叉堆之类的数据结构。\n",
    "3. **图**\n",
    "图是更为复杂的数据结构，因为在图中会呈现出多对多的关联关系。\n",
    "4. **其他数据结构**\n",
    "由基本数据结构变形而来的，用于解决某些特定的问题，如跳表、哈希链表、位图等。\n"
   ]
  },
  {
   "cell_type": "markdown",
   "metadata": {},
   "source": [
    "## 1.2 时间复杂度\n",
    "\n",
    "### 1.2.1 算法的好坏\n",
    "\n",
    "运行时间的长短和占用内存空间的大小，是衡量程序好坏的重要因素。\n",
    "\n",
    "### 1.2.2 基本操作执行次数\n",
    "\n",
    "设$T(n)$为程序基本操作执行次数的函数（也可以认为是程序的相对执行时间函数），n为输入规模，下面是程序中最常见的4种执行方式："
   ]
  },
  {
   "cell_type": "markdown",
   "metadata": {},
   "source": [
    "**场景1** $$T(n)=3n$$,执行次数是线性的。"
   ]
  },
  {
   "cell_type": "code",
   "execution_count": 1,
   "metadata": {
    "ExecuteTime": {
     "end_time": "2021-05-04T01:01:27.794390Z",
     "start_time": "2021-05-04T01:01:27.789393Z"
    }
   },
   "outputs": [],
   "source": [
    "def eat1(n):\n",
    "    for i in range(n):\n",
    "        print(\"等待1min\")\n",
    "        print(\"等待1min\")\n",
    "        print(\"吃1cm面包\")"
   ]
  },
  {
   "cell_type": "markdown",
   "metadata": {},
   "source": [
    "**场景2** $T(n)={5\\log n}$,执行次数是用对数计算的。"
   ]
  },
  {
   "cell_type": "code",
   "execution_count": 2,
   "metadata": {
    "ExecuteTime": {
     "end_time": "2021-05-04T01:01:27.810307Z",
     "start_time": "2021-05-04T01:01:27.796801Z"
    }
   },
   "outputs": [],
   "source": [
    "def eat2(n):\n",
    "    while n > 1:\n",
    "        print(\"等待1min\")\n",
    "        print(\"等待1min\")\n",
    "        print(\"等待1min\")\n",
    "        print(\"等待1min\")\n",
    "        print(\"吃一半面包\")\n",
    "        n /= 2"
   ]
  },
  {
   "cell_type": "markdown",
   "metadata": {},
   "source": [
    "**场景3** $T(n)=2$,执行次数是常量。"
   ]
  },
  {
   "cell_type": "code",
   "execution_count": 3,
   "metadata": {
    "ExecuteTime": {
     "end_time": "2021-05-04T01:01:27.826307Z",
     "start_time": "2021-05-04T01:01:27.813309Z"
    }
   },
   "outputs": [],
   "source": [
    "def eat3(n):\n",
    "    print(\"等待1min\")\n",
    "    print(\"吃一个鸡腿\")"
   ]
  },
  {
   "cell_type": "markdown",
   "metadata": {},
   "source": [
    "**场景4** $T(n)=0.5n^2+0.5n$,执行次数是用多项式计算的。"
   ]
  },
  {
   "cell_type": "code",
   "execution_count": 4,
   "metadata": {
    "ExecuteTime": {
     "end_time": "2021-05-04T01:01:27.842308Z",
     "start_time": "2021-05-04T01:01:27.827308Z"
    }
   },
   "outputs": [],
   "source": [
    "def eat4(n):\n",
    "    for i in range(n):\n",
    "        for j in range(i):\n",
    "            print(\"等待1min\")\n",
    "        print(\"吃1cm面包\")"
   ]
  },
  {
   "cell_type": "markdown",
   "metadata": {},
   "source": [
    "### 1.2.3 渐进时间复杂度\n",
    "\n",
    "渐进时间复杂度 asymptotic time complexity:\n",
    "\n",
    "若存在函数f(n),使得当n趋近于无穷大时，$\\frac {T(n)} {f(n)}$的极限值为不等于零的常数，则称f(n)是T(n)的同数量级函数。记作$T(n)=O(f(n))$,称为$O(f(n))$，O为算法的渐进时间复杂度，简称为时间复杂度。\n",
    "\n",
    "时间复杂度就是把程序的相对执行时间函数$T(n)$简化为一个数量级，如$n$、$n^2$、$n^3$.\n",
    "\n",
    "**推导时间复杂度的原则：**\n",
    "\n",
    "* 如果运行时间是常数量级，则用常数1表示。\n",
    "* 只保留时间函数中的最高阶项。\n",
    "* 如果最高阶项存在，则省去最高阶项前面的系数。\n",
    "\n",
    "常用简单时间复杂度排序：\n",
    "\n",
    "$O(1)<O(\\log n)<O(n)<O(n^2)$\n",
    "\n",
    "更多形式的时间复杂度：\n",
    "\n",
    "$O(nlogn)、O(n^3)、O(mn)、O(2^n)、O(n!)$\n"
   ]
  },
  {
   "cell_type": "markdown",
   "metadata": {},
   "source": [
    "## 1.3 空间复杂度\n",
    "### 1.3.1 什么是空间复杂度\n",
    "简单来说，时间复杂度是执行算法的时间成本，空间复杂度是执行算法的空间成本。\n",
    "\n",
    "Python的字典，是一种特殊的数据结构，叫做**哈希表**，也称为散列表。\n",
    "\n",
    "空间复杂度是对一个算法在运行过程中临时占用存储空间大小的量度，同样使用大O表示法。\n",
    "\n",
    "### 1.3.2 空间复杂度的计算\n",
    "\n"
   ]
  },
  {
   "cell_type": "markdown",
   "metadata": {},
   "source": [
    "**1.常量空间**\n",
    "\n",
    "当算法的存储空间大小固定，和输入规模没有直接的关系时，空间复杂度记作O(1).\n"
   ]
  },
  {
   "cell_type": "code",
   "execution_count": 1,
   "metadata": {
    "ExecuteTime": {
     "end_time": "2021-05-04T03:12:43.116135Z",
     "start_time": "2021-05-04T03:12:43.092573Z"
    }
   },
   "outputs": [],
   "source": [
    "def fun1(n):\n",
    "    i = 3\n",
    "    # do something"
   ]
  },
  {
   "cell_type": "markdown",
   "metadata": {},
   "source": [
    "**2.线性空间**\n",
    "\n",
    "当算法分配的空间是一个线性的集合（如列表），并且集合大小和输入规模n成正比，空间复杂度记作O(n)."
   ]
  },
  {
   "cell_type": "code",
   "execution_count": 2,
   "metadata": {
    "ExecuteTime": {
     "end_time": "2021-05-04T03:14:36.694687Z",
     "start_time": "2021-05-04T03:14:36.685136Z"
    }
   },
   "outputs": [],
   "source": [
    "def fun2(n):\n",
    "    array = [[0] * n]\n",
    "    # do something"
   ]
  },
  {
   "cell_type": "markdown",
   "metadata": {},
   "source": [
    "**3.二维空间**\n",
    "\n",
    "当算法分配的空间是一个二维列表集合，并且集合的长度和宽度都与输入规模n成正比时，空间复杂度记作$O(n^2)$"
   ]
  },
  {
   "cell_type": "code",
   "execution_count": 3,
   "metadata": {
    "ExecuteTime": {
     "end_time": "2021-05-04T03:16:47.317375Z",
     "start_time": "2021-05-04T03:16:47.300855Z"
    }
   },
   "outputs": [],
   "source": [
    "def fun3(n):\n",
    "    matrix = [[0] * n] * n\n",
    "    # do something"
   ]
  },
  {
   "cell_type": "markdown",
   "metadata": {},
   "source": [
    "**4.递归空间**\n",
    "\n",
    "递归代码没有显式地声明变量或集合，但是实际上会专门分配一块内存，用来存储“函数调用栈”。\n",
    "\n",
    "“函数调用栈”包括**进栈**和**出栈**两个行为。\n",
    "\n",
    "* 当进入一个新函数时，执行入栈操作，把调用的函数和参数信息压入栈中。\n",
    "* 当函数返回时，执行出栈操作，把调用的函数和参数信息从栈中弹出。"
   ]
  },
  {
   "cell_type": "code",
   "execution_count": 4,
   "metadata": {
    "ExecuteTime": {
     "end_time": "2021-05-04T03:21:04.534321Z",
     "start_time": "2021-05-04T03:21:04.520286Z"
    }
   },
   "outputs": [],
   "source": [
    "def fun4(n):\n",
    "    if n > 0:\n",
    "        fun4(n - 1)\n",
    "    # do something"
   ]
  },
  {
   "cell_type": "markdown",
   "metadata": {},
   "source": [
    "执行递归操作所需要的内存空间和递归的深度成正比，如果递归深度是n，那么空间复杂度是O(n)."
   ]
  },
  {
   "cell_type": "markdown",
   "metadata": {},
   "source": [
    "### 1.3.3 时间与空间的取舍\n",
    "\n",
    "在绝大多数时候，时间复杂度更为重要一些，我们宁可多分配一些内存空间，也要提升程序的执行速度。\n",
    "\n",
    "## 1.4小结\n",
    "\n",
    "* 什么是算法<br>\n",
    "在计算机领域里，算法是一系列程序指令，用于处理特定的运算和逻辑问题。<br>\n",
    "衡量算法优劣的主要标准是时间复杂度和空间复杂度。\n",
    "* 什么是数据结构<br>\n",
    "数据结构是数据的组织、管理和存储格式，其使用目的是高效地访问和修改数据。<br>\n",
    "数据结构包含数组、链表这样的线性数据结构，也包含树、图这样的复杂数据结构。<br>\n",
    "* 什么是时间复杂度<br>\n",
    "时间复杂度是对一个算法运行时间长短的度量，用大O表示，记作$T(n)=O(f(n)$<br>\n",
    "常见的时间复杂度按照从低到高的顺序，包括$O(1)、O(log n)、O(n)、O(nlog n)、O(n^2)$等。<br>\n",
    "* 什么是空间复杂度<br>\n",
    "空间复杂度是对一个算法在运行过程中临时占用存储空间大小的量度，用大O表示，记作$S(n)=O(f(n))$<br>\n",
    "常见的空间复杂度按照从低到高的顺序，包括$O(1)、O(n)、O(n^2)$等。其中递归算法的空间复杂度和递归深度成正比。\n",
    "\n",
    "\n"
   ]
  },
  {
   "cell_type": "code",
   "execution_count": null,
   "metadata": {},
   "outputs": [],
   "source": []
  }
 ],
 "metadata": {
  "kernelspec": {
   "display_name": "Python 3",
   "language": "python",
   "name": "python3"
  },
  "language_info": {
   "codemirror_mode": {
    "name": "ipython",
    "version": 3
   },
   "file_extension": ".py",
   "mimetype": "text/x-python",
   "name": "python",
   "nbconvert_exporter": "python",
   "pygments_lexer": "ipython3",
   "version": "3.8.3"
  },
  "toc": {
   "base_numbering": 1,
   "nav_menu": {},
   "number_sections": true,
   "sideBar": true,
   "skip_h1_title": false,
   "title_cell": "Table of Contents",
   "title_sidebar": "Contents",
   "toc_cell": false,
   "toc_position": {
    "height": "calc(100% - 180px)",
    "left": "10px",
    "top": "150px",
    "width": "170.76px"
   },
   "toc_section_display": true,
   "toc_window_display": true
  },
  "varInspector": {
   "cols": {
    "lenName": 16,
    "lenType": 16,
    "lenVar": 40
   },
   "kernels_config": {
    "python": {
     "delete_cmd_postfix": "",
     "delete_cmd_prefix": "del ",
     "library": "var_list.py",
     "varRefreshCmd": "print(var_dic_list())"
    },
    "r": {
     "delete_cmd_postfix": ") ",
     "delete_cmd_prefix": "rm(",
     "library": "var_list.r",
     "varRefreshCmd": "cat(var_dic_list()) "
    }
   },
   "types_to_exclude": [
    "module",
    "function",
    "builtin_function_or_method",
    "instance",
    "_Feature"
   ],
   "window_display": false
  }
 },
 "nbformat": 4,
 "nbformat_minor": 4
}
