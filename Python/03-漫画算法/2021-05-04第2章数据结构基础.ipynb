{
 "cells": [
  {
   "cell_type": "markdown",
   "metadata": {},
   "source": [
    "# 2021-05-04第2章数据结构基础\n",
    "\n",
    "**漫画算法 小灰的算法之旅**\n",
    "**作者：魏梦舒**\n",
    "**Date**: 2021-05-04 11：20\n",
    "**Author**: chenfengyuan\n",
    "**E-mail**: chenfengyuan@cqu.edu.cn\n",
    "**Goal**: 算法基础入门,熟悉基本数据结构。"
   ]
  },
  {
   "cell_type": "markdown",
   "metadata": {},
   "source": [
    "## 2.1 什么是数组\n",
    "\n",
    "### 2.1.1 初识数组\n",
    "\n",
    "数组对应的英文是array，是有限个相同类型的变量所组成的有序集合，数组中的每一个变量称为元素。\n",
    "\n",
    "在Python语言中，并没有直接使用数组这个概念，而是使用列表`list`和元组`tuple`这两种集合，它们本质上都是对数组的封装。其中列表是一个动态可拓展的数组，支持任意地添加、删除、修改元素；而元组是一个不可变集合，一旦创建就在不再支持修改。\n",
    "\n",
    "**数据结构的操作无非就是增、删、改、查4种情况。**\n",
    "\n",
    "### 2.1.2 数组的基本操作\n",
    "\n"
   ]
  },
  {
   "cell_type": "markdown",
   "metadata": {},
   "source": [
    "**1.读取元素**"
   ]
  },
  {
   "cell_type": "code",
   "execution_count": 6,
   "metadata": {
    "ExecuteTime": {
     "end_time": "2021-05-04T07:28:18.228238Z",
     "start_time": "2021-05-04T07:28:18.209718Z"
    }
   },
   "outputs": [],
   "source": [
    "# 初始化列表\n",
    "my_list = [3, 1, 2, 5, 4, 9, 7, 2]"
   ]
  },
  {
   "cell_type": "code",
   "execution_count": 7,
   "metadata": {
    "ExecuteTime": {
     "end_time": "2021-05-04T07:28:18.807964Z",
     "start_time": "2021-05-04T07:28:18.792915Z"
    }
   },
   "outputs": [
    {
     "name": "stdout",
     "output_type": "stream",
     "text": [
      "2\n"
     ]
    }
   ],
   "source": [
    "# 读取元素，根据下标读取元素，随机读取\n",
    "print(my_list[2])"
   ]
  },
  {
   "cell_type": "markdown",
   "metadata": {},
   "source": [
    "**2.更新元素**"
   ]
  },
  {
   "cell_type": "code",
   "execution_count": 8,
   "metadata": {
    "ExecuteTime": {
     "end_time": "2021-05-04T07:28:19.733531Z",
     "start_time": "2021-05-04T07:28:19.721472Z"
    }
   },
   "outputs": [
    {
     "name": "stdout",
     "output_type": "stream",
     "text": [
      "[3, 1, 2, 10, 4, 9, 7, 2]\n"
     ]
    }
   ],
   "source": [
    "# 更新元素\n",
    "my_list[3] = 10\n",
    "print(my_list)"
   ]
  },
  {
   "cell_type": "markdown",
   "metadata": {},
   "source": [
    "**3.插入元素**\n",
    "\n",
    "* 尾部插入\n",
    "* 中间插入：先把插入位置及后面的元素向后移动，腾出地方，再把要插入的元素放到对应的数组位置上。\n",
    "* 超范围插入"
   ]
  },
  {
   "cell_type": "code",
   "execution_count": 9,
   "metadata": {
    "ExecuteTime": {
     "end_time": "2021-05-04T07:28:21.579062Z",
     "start_time": "2021-05-04T07:28:21.565040Z"
    }
   },
   "outputs": [
    {
     "name": "stdout",
     "output_type": "stream",
     "text": [
      "[3, 1, 2, 10, 4, 11, 9, 7, 2, 6]\n"
     ]
    }
   ],
   "source": [
    "\"\"\"Python 底层实现\"\"\"\n",
    "# 尾部插入元素\n",
    "my_list.append(6)\n",
    "# 中间插入元素\n",
    "my_list.insert(5, 11)\n",
    "print(my_list)"
   ]
  },
  {
   "cell_type": "code",
   "execution_count": 17,
   "metadata": {
    "ExecuteTime": {
     "end_time": "2021-05-04T07:38:10.164231Z",
     "start_time": "2021-05-04T07:38:10.148233Z"
    }
   },
   "outputs": [
    {
     "name": "stdout",
     "output_type": "stream",
     "text": [
      "11\n",
      "15\n",
      "10\n"
     ]
    }
   ],
   "source": [
    "\"\"\"自己实现一段插入操作的代码\"\"\"\n",
    "\n",
    "\n",
    "class MyArray:\n",
    "    def __init__(self, capacity):\n",
    "        self.array = [None] * capacity\n",
    "        self.size = 0\n",
    "\n",
    "    def insert(self, index, element):\n",
    "        # 判断访问下标是否超出范围\n",
    "        if index < 0 or index > self.size:\n",
    "            raise Exception(\"超出数组实际元素范围！\")\n",
    "        # 从右向左循环，逐个元素向右挪一位\n",
    "        for i in range(self.size - 1, -1, -1):\n",
    "            self.array[i+1] = self.array[i]\n",
    "        # 腾出的位置放入新元素\n",
    "        self.array[index] = element\n",
    "        self.size += 1\n",
    "\n",
    "    def output(self):\n",
    "        for i in range(self.size):\n",
    "            print(self.array[i])\n",
    "\n",
    "\n",
    "array = MyArray(4)\n",
    "array.insert(0, 10)\n",
    "array.insert(0, 11)\n",
    "array.insert(1, 15)\n",
    "array.output()"
   ]
  },
  {
   "cell_type": "code",
   "execution_count": 25,
   "metadata": {
    "ExecuteTime": {
     "end_time": "2021-05-04T07:47:12.806994Z",
     "start_time": "2021-05-04T07:47:12.786996Z"
    }
   },
   "outputs": [
    {
     "name": "stdout",
     "output_type": "stream",
     "text": [
      "15\n",
      "16\n",
      "14\n",
      "12\n",
      "11\n",
      "10\n"
     ]
    }
   ],
   "source": [
    "\"\"\"自己实现一段插入操作的代码,添加超范围插入功能\"\"\"\n",
    "\n",
    "\n",
    "class MyArray:\n",
    "    def __init__(self, capacity):\n",
    "        self.array = [None] * capacity\n",
    "        self.size = 0\n",
    "\n",
    "    def insert_v2(self, index, element):\n",
    "        # 判断访问下标是否超出范围\n",
    "        if index < 0 or index > self.size:\n",
    "            raise Exception(\"超出数组实际元素范围！\")\n",
    "        # 如果实际元素达到数组容量上限，数组扩容\n",
    "        if self.size >= len(self.array):\n",
    "            self.resize()\n",
    "        # 从右向左循环，逐个元素向右挪一位\n",
    "        for i in range(self.size - 1, -1, -1):\n",
    "            self.array[i+1] = self.array[i]\n",
    "        # 腾出的位置放入新元素\n",
    "        self.array[index] = element\n",
    "        self.size += 1\n",
    "\n",
    "    def resize(self):\n",
    "        array_new = [None] * len(self.array) * 2\n",
    "        # 从旧数组复制到新数组\n",
    "        for i in range(self.size):\n",
    "            array_new[i] = self.array[i]\n",
    "        self.array = array_new\n",
    "\n",
    "    def output(self):\n",
    "        for i in range(self.size):\n",
    "            print(self.array[i])\n",
    "\n",
    "\n",
    "array = MyArray(4)\n",
    "array.insert_v2(0, 10)\n",
    "array.insert_v2(0, 11)\n",
    "array.insert_v2(0, 12)\n",
    "array.insert_v2(0, 14)\n",
    "array.insert_v2(0, 15)\n",
    "array.insert_v2(1, 16)\n",
    "array.output()"
   ]
  },
  {
   "cell_type": "markdown",
   "metadata": {},
   "source": [
    "**4.删除元素**\n",
    "\n",
    "数组的删除操作和插入操作的过程相反，如果删除的元素位于数组中间，其后的元素都需要向前挪动1位。"
   ]
  },
  {
   "cell_type": "code",
   "execution_count": 31,
   "metadata": {
    "ExecuteTime": {
     "end_time": "2021-05-04T07:56:25.117580Z",
     "start_time": "2021-05-04T07:56:25.095580Z"
    }
   },
   "outputs": [
    {
     "name": "stdout",
     "output_type": "stream",
     "text": [
      "15\n",
      "10\n"
     ]
    }
   ],
   "source": [
    "class MyArray:\n",
    "    def __init__(self, capacity):\n",
    "        self.array = [None] * capacity\n",
    "        self.size = 0\n",
    "\n",
    "    def insert(self, index, element):\n",
    "        # 判断访问下标是否超出范围\n",
    "        if index < 0 or index > self.size:\n",
    "            raise Exception(\"超出数组实际元素范围！\")\n",
    "        # 从右向左循环，逐个元素向右挪一位\n",
    "        for i in range(self.size - 1, -1, -1):\n",
    "            self.array[i+1] = self.array[i]\n",
    "        # 腾出的位置放入新元素\n",
    "        self.array[index] = element\n",
    "        self.size += 1\n",
    "\n",
    "    def remove(self, index):\n",
    "        # 判断访问下标是否超出范围\n",
    "        if index < 0 or index >= self.size:\n",
    "            raise Exception(\"超出数组实际元素范围！\")\n",
    "        # 从左到右，逐个元素向左挪动一位\n",
    "        for i in range(index, self.size):\n",
    "            self.array[i] = self.array[i+1]\n",
    "        self.size -= 1\n",
    "\n",
    "    def output(self):\n",
    "        for i in range(self.size):\n",
    "            print(self.array[i])\n",
    "\n",
    "\n",
    "array = MyArray(4)\n",
    "array.insert(0, 10)\n",
    "array.insert(0, 11)\n",
    "array.insert(0, 15)\n",
    "array.remove(1)\n",
    "array.output()"
   ]
  },
  {
   "cell_type": "markdown",
   "metadata": {},
   "source": [
    "### 2.1.3 数组的优势与劣势\n",
    "\n",
    "数组拥有非常高效的随机访问能力，只要给出下标，就可以用常量时间找到对应元素。有一种高效查找元素的算法叫做二分查找，就是利用了数组的这个优势。\n",
    "\n",
    "数组的劣势体现在插入和删除元素方面。由于数组元素连续紧密地存储在内存中，插入、删除元素都会导致大量元素被迫移动，影响效率。\n",
    "\n",
    "总的来说，数组所适合的是**读操作多、写操作少**的场景。"
   ]
  },
  {
   "cell_type": "markdown",
   "metadata": {},
   "source": [
    "## 2.2 什么是链表\n",
    "\n",
    "### 2.2.1 “正规军”和“地下党”\n",
    "\n",
    "链表（`linked list`）是一种在物理上非连续、非顺序的数据结构，由若干节点（node）所组成。\n",
    "\n",
    "**单向链表**的每一个节点又包含两部分，一部分是存放数据的变量data，另一部分是指向下一个节点的指针next。\n",
    "\n",
    "链表的第1个节点被称为头节点，最后1个节点被称为尾节点，尾节点的next指针指向空。"
   ]
  },
  {
   "cell_type": "code",
   "execution_count": 32,
   "metadata": {
    "ExecuteTime": {
     "end_time": "2021-05-04T08:09:02.703361Z",
     "start_time": "2021-05-04T08:09:02.691278Z"
    }
   },
   "outputs": [],
   "source": [
    "class Node:\n",
    "    def __init__(self, data):\n",
    "        self.data = data\n",
    "        self.next = None"
   ]
  },
  {
   "cell_type": "markdown",
   "metadata": {},
   "source": [
    "**双向链表**比单向链表稍微复杂一点，它的每一个节点除了拥有data和next指针，还拥有指向前置节点的prev指针。\n",
    "\n",
    "### 2.2.2链表的基本操作\n",
    "\n",
    "**1.查找节点**\n",
    "\n",
    "从头节点开始，向后一个一个节点逐一查找。顺序访问，时间复杂度$O(n)$.\n",
    "\n",
    "**2.更新节点**\n",
    "\n",
    "直接把旧数据替换成新数据即可。\n",
    "\n",
    "**3.插入节点**\n",
    "\n",
    "* 尾部插入：最简单的情况，把最后一个节点的next指针指向新插入的节点即可。\n",
    "* 头部插入：\n",
    "    1. 把新节点的next指针指向原先的头节点；\n",
    "    2. 把新节点变为链表的头节点。\n",
    "    \n",
    "* 中间插入：\n",
    "    1. 新节点的next指针指向插入位置的节点；\n",
    "    2. 插入位置前置节点的next指针，指向新节点。\n",
    "    \n",
    "**4. 删除元素**\n",
    "\n",
    "* 尾部删除：最简单的情况，把倒数第2个节点的next指针指向空即可。\n",
    "* 头部删除：把链表的头节点设为原先头节点的next指针所指向的节点即可。\n",
    "* 中间删除：把要删除节点的前置节点的next指针，指向要删除元素的下一个节点即可。\n",
    "\n",
    "> 只考虑纯粹的插入和删除操作，时间复杂度都是$O(1)$."
   ]
  },
  {
   "cell_type": "code",
   "execution_count": 49,
   "metadata": {
    "ExecuteTime": {
     "end_time": "2021-05-04T09:14:43.618197Z",
     "start_time": "2021-05-04T09:14:43.596583Z"
    }
   },
   "outputs": [
    {
     "name": "stdout",
     "output_type": "stream",
     "text": [
      "6\n",
      "3\n",
      "9\n",
      "5\n"
     ]
    }
   ],
   "source": [
    "\"\"\"实现链表的完整代码\"\"\"\n",
    "\n",
    "\n",
    "class Node:\n",
    "    def __init__(self, data):\n",
    "        self.data = data\n",
    "        self.next = None\n",
    "\n",
    "\n",
    "class LinkedList:\n",
    "    def __init__(self):\n",
    "        self.size = 0\n",
    "        self.head = None\n",
    "        self.last = None\n",
    "\n",
    "    def get(self, index):\n",
    "        \"\"\"链表节点的查找\"\"\"\n",
    "        if index < 0 or index >= self.size:\n",
    "            raise Exception(\"超出链表节点范围!\")\n",
    "        p = self.head  # p指向头节点\n",
    "        for i in range(index):\n",
    "            p = p.next  # p指向查找位置的前置节点的指针（即查找位置节点处）\n",
    "        return p\n",
    "\n",
    "    def insert(self, data, index):\n",
    "        \"\"\"链表节点的插入\"\"\"\n",
    "        if index < 0 or index > self.size:\n",
    "            raise Exception(\"超出链表节点范围！\")\n",
    "        node = Node(data)\n",
    "        if self.size == 0:\n",
    "            # 空链表\n",
    "            self.head = node  # 把新节点变为链表的头节点\n",
    "            self.last = node  # 把新节点变为链表的尾节点\n",
    "        elif index == 0:\n",
    "            # 插入头部\n",
    "            node.next = self.head  # 把新节点的next指针指向原先的头节点\n",
    "            self.head = node  # 把新节点变为链表的头节点\n",
    "        elif self.size == index:\n",
    "            # 插入尾部\n",
    "            self.last.next = node  # 把最后一个节点的next指针指向新插入的节点\n",
    "            self.last = node  # 把新节点变为链表的尾节点\n",
    "        else:\n",
    "            # 插入中间\n",
    "            prev_node = self.get(index-1)  # 找到插入位置的前置节点\n",
    "            node.next = prev_node.next  # 新节点的next指针指向插入位置的节点（即前置节点的next指针指向的地方）\n",
    "            prev_node.next = node  # 插入位置前置节点的next指针，指向新节点\n",
    "\n",
    "        self.size += 1\n",
    "\n",
    "    def remove(self, index):\n",
    "        \"\"\"链表节点的删除\"\"\"\n",
    "        if index < 0 or index >= self.size:\n",
    "            raise Excepption(\"超出链表节点范围！\")\n",
    "        \n",
    "        # 暂存被删除的节点，用于返回\n",
    "        if index == 0:\n",
    "            # 删除头节点\n",
    "            removed_node = self.head # 暂存被删除的节点，用于返回\n",
    "            self.head = self.head.next # 把链表的头节点设为原先头节点的next指针所指向的节点\n",
    "        elif index == self.szie - 1:\n",
    "            # 删除尾节点\n",
    "            prev_node = self.get(index - 1) # 找到删除位置的前置节点\n",
    "            removed_node = prev_node.next # 暂存被删除的节点，用于返回\n",
    "            prev_node.next = None # 把倒数第2个节点的next指针指向空\n",
    "            self.last = prev_node # 把倒数第2个节点变为链表的尾节点\n",
    "        else:\n",
    "            # 删除中间节点\n",
    "            prev_node = self.get(index - 1) # 找到删除位置的前置节点\n",
    "            next_node = prev_node.next.next # 确定要删除元素的下一个节点\n",
    "            removed_node = prev_node.next # 暂存被删除的节点，用于返回\n",
    "            prev_node.next = next_node # 把要删除节点的前置节点的next指针，指向要删除元素的下一个节点\n",
    "            \"\"\"更加精简的写法\n",
    "            prev_node = self.get(index - 1) # 找到删除位置的前置节点\n",
    "            removed_node = prev_node.next # 暂存被删除的节点，用于返回\n",
    "            prev_node.next = prev_node.next.next # 把要删除节点的前置节点的next指针，指向要删除元素的下一个节点\n",
    "            \"\"\"\n",
    "        self.size -= 1\n",
    "        return removed_node\n",
    "    \n",
    "    def output(self):\n",
    "        \"\"\"输出链表\"\"\"\n",
    "        p = self.head\n",
    "        while p is not None:\n",
    "            print(p.data)\n",
    "            p = p.next\n",
    "#             print(p.data)\n",
    "            \n",
    "linkedList = LinkedList()\n",
    "linkedList.insert(3, 0)\n",
    "linkedList.insert(4, 0)\n",
    "linkedList.insert(9, 2)\n",
    "linkedList.insert(5, 3)\n",
    "linkedList.insert(6, 1)\n",
    "linkedList.remove(0)\n",
    "linkedList.output()\n",
    "# print(linkedList)"
   ]
  },
  {
   "cell_type": "markdown",
   "metadata": {},
   "source": [
    "### 2.2.3 数组VS链表\n",
    "\n",
    "数组和链表的相关操作性能对比\n",
    "\n",
    "\n",
    "|      |  查找  |  更新  |  插入  |  删除  |\n",
    "|  :----: | :----:  | :----:  | :----:  | :----: |\n",
    "|  数组  | $O(1)$  | $O(1)$  | $O(n)$  | $O(n)$ |\n",
    "|  链表  | $O(n)$  | $O(1)$  | $O(1)$  | $O(1)$ |\n",
    "\n",
    "**总结**：\n",
    "\n",
    "* 数组的优势：快速定位元素，适合读操作多、写操作少的场景。\n",
    "* 链表的优势：灵活的进行插入和删除操作，适合频繁插入、删除元素的场景。"
   ]
  },
  {
   "cell_type": "markdown",
   "metadata": {},
   "source": [
    "## 2.3 栈和队列\n",
    "\n",
    "### 2.3.1 物理结构和逻辑结构\n",
    "\n",
    "如果把物质层面的人体比作数据存储的**物理结构**，那么精神层面的人格则是数据存储的**逻辑结构**。逻辑结构是抽象的概念，它依赖于物理结构而存在。\n",
    "\n",
    "|   | 线性结构 | 非线性结构 |\n",
    "|:----:|:----: |:----:|\n",
    "| 逻辑结构  | 举例：顺序表、栈、队列  | 举例：树、图  |\n",
    "| 物理结构  | 举例：数组  | 举例：链表 |"
   ]
  },
  {
   "cell_type": "markdown",
   "metadata": {},
   "source": [
    "### 2.3.2 什么是栈\n",
    "**形象表示：一端封闭的圆筒**\n",
    "\n",
    "栈stack是一种线性数据结构，栈中的元素只能**先入后出**（`First In Last Out`,简称FILO）。最早进入的元素存放的位置叫做**栈底（bottom）**，最后进入的元素存放的位置叫做**栈顶（top）**。\n",
    "\n",
    "### 2.3.3 栈的基本操作\n",
    "\n",
    "**1.入栈**\n",
    "\n",
    "入栈操作（push）就是把新元素放入栈中，只允许从栈顶一侧放入元素，新元素的位置将会成为新的栈顶。\n",
    "\n",
    "**2.出栈**\n",
    "\n",
    "出栈操作（pop）就是把元素从栈中弹出，只有栈顶元素才允许出栈，出栈元素的前一个元素将会成为新的栈顶。\n",
    "\n",
    "Python中的`append`方法相当于入栈，`pop`方法相当于出栈。\n",
    "\n",
    "### 2.3.4 什么是队列\n",
    "\n",
    "**形象表示：一条单行隧道**\n",
    "\n",
    "队列（queue）是一种线性数据结构，队列中的元素只能**先入先出**（`First In First Out`,简称FIFO）。队列的出口端叫做**队头（front）**，队列的入口端叫做**队尾（rear）**。\n",
    "\n",
    "### 2.3.5 队列的基本操作\n",
    "\n",
    "**1.入队**\n",
    "\n",
    "入队（enqueue）就是把新元素放入队列中，只允许在队尾的位置放入元素，新元素的下一个位置将会成为新的队尾。\n",
    "\n",
    "**2.出队**\n",
    "\n",
    "出队操作（dequeue）就是把元素移出队列，只允许在队头一侧移出元素，出队元素的后一个元素将会成为新的队头。\n",
    "\n",
    "Python语言提供的多种队列工具：`collections.deque`、`queue.Queue`等。"
   ]
  },
  {
   "cell_type": "code",
   "execution_count": 61,
   "metadata": {
    "ExecuteTime": {
     "end_time": "2021-05-04T11:25:17.799162Z",
     "start_time": "2021-05-04T11:25:17.791157Z"
    }
   },
   "outputs": [
    {
     "name": "stdout",
     "output_type": "stream",
     "text": [
      "6\n",
      "2\n",
      "4\n"
     ]
    }
   ],
   "source": [
    "\"\"\"自己尝试实现的一个队列\"\"\"\n",
    "\n",
    "class MyQueue:\n",
    "    def __init__(self, capacity):\n",
    "        self.list = [None] * capacity\n",
    "        self.front = 0\n",
    "        self.rear = 0\n",
    "        \n",
    "    def enqueue(self, element):\n",
    "        \"\"\"队列入队\"\"\"\n",
    "        if (self.rear+1) % len(self.list) == self.front: # 队尾和队头挨在一起了\n",
    "            raise Exception(\"队列已满！\")\n",
    "        self.list[self.rear] = element # 新元素放入队列中的队尾位置\n",
    "        self.rear = (self.rear+1) % len(self.list) # 队尾向后移动一个位置\n",
    "        \n",
    "    def dequeue(self):\n",
    "        \"\"\"队列出队\"\"\"\n",
    "        if self.rear == self.front:\n",
    "            raise Exception(\"队列已满！\")\n",
    "        dequeue_element = self.list[self.front] # 暂存出队的队头元素\n",
    "        self.front = (self.front+1) % len(self.list) # 出队元素的后一个元素成为新的队头\n",
    "        return dequeue_element\n",
    "    \n",
    "    def output(self):\n",
    "        i = self.front # 队头位置\n",
    "        while i != self.rear: \n",
    "            print(self.list[i])\n",
    "            i = (i+1) % len(self.list) # 向后移动一个位置\n",
    "            \n",
    "myQueue = MyQueue(6)\n",
    "myQueue.enqueue(3)\n",
    "myQueue.enqueue(5)\n",
    "myQueue.enqueue(6)\n",
    "myQueue.dequeue()\n",
    "myQueue.dequeue()\n",
    "myQueue.enqueue(2)\n",
    "myQueue.enqueue(4)\n",
    "myQueue.output()"
   ]
  },
  {
   "cell_type": "markdown",
   "metadata": {
    "ExecuteTime": {
     "end_time": "2021-05-04T11:09:55.296108Z",
     "start_time": "2021-05-04T11:09:55.279601Z"
    }
   },
   "source": [
    "### 2.3.6 栈和队列的应用\n",
    "\n",
    "**1.栈的应用**\n",
    "\n",
    "栈的输出顺序和输入顺序相反，通常用于对“历史”的回溯，也就是逆流而上追溯“历史”。\n",
    "例如实现递归的逻辑，可以用栈来代替，因为栈可以回溯方法的调用链。\n",
    "另一个著名应用场景：面包屑导航。\n",
    "\n",
    "**2.队列的应用**\n",
    "\n",
    "队列的输出顺序和输入顺序相同，通常用于对“历史”的回放，按照“历史顺序”，把“历史”重演一遍。\n",
    "\n",
    "**例如在多线程中，争夺公平锁的等待队列，就是按照访问顺序来决定线程在队列中的次序的。**\n",
    "\n",
    "**再如网络爬虫实现网站抓取时，也就是把待抓取的网站URL存入队列中，再按照存入队列的顺序来依次抓取和解析的。**\n",
    "\n",
    "**3.双端队列**\n",
    "\n",
    "双端队列，综合了栈和队列的优点，从队头的一端可以入队或出队，从队尾的一端也可以入队或出队。\n",
    "\n",
    "**4.优先队列**\n",
    "\n",
    "优先队列遵循的不是先入先出，而是谁的优先级最高，谁先出队。"
   ]
  },
  {
   "cell_type": "markdown",
   "metadata": {},
   "source": [
    "## 2.4 神奇的哈希表\n",
    "\n",
    "### 2.4.1 为什么需要哈希表\n",
    "\n",
    "**哈希表（Hash table）**也叫做散列表，这种数据结构提供了**键（Key）**和**值（Value）**。只要给出一个key，就可以高效查找到它所匹配的Value，时间复杂度接近于$O(1)$.\n",
    "\n",
    "### 2.4.2 哈希函数\n",
    "\n",
    "**哈希函数**\n",
    "\n",
    "在Python语言中，哈希表对应的集合叫做**字典（dict）**。\n",
    "\n",
    "在Python及大多数面向对象的语言中，每一个对象都有属于自己的hash值，这个hash值是区分不同对象的重要标识。无论对象自身的类型是什么，它们的hash值都是一个整型变量。通过按照数组长度进行取模运算（Python中是位运算），转化成数组的下标。\n",
    "\n",
    "### 2.4.3 哈希表的读写操作\n",
    "\n",
    "**1.写操作**\n",
    "写操作就是在哈希表中插入新的键值对（也被称为Entry）。\n",
    "\n",
    "**2.读操作**\n",
    "读操作就是通过给定的Key，在哈希表中查找对应的Value。\n",
    "\n",
    "在众多编程语言中，有些语言的哈希表采用了链表法，最具代表性的就是Java中的HashMap；有些编程语言采用的是开放寻址法，比如Python中的dict。"
   ]
  },
  {
   "cell_type": "markdown",
   "metadata": {},
   "source": [
    "## 2.5 小结\n",
    "\n",
    "* **什么是数组**\n",
    "数组是由有限个相同类型的变量所组成的有序集合，它的物理存储方式是顺序存储，访问方式是随机访问。利用下标查找数组元素的时间复杂度是$O(1)$，中间插入、删除数组元素的时间复杂度是$O(n)$.\n",
    "* **什么是链表**\n",
    "链表是一种链式数据结构，由若干节点组成，每个节点包含指向下一个节点的指针。链表的物理存储方式是随机存储，访问方式是顺序访问。查找链表节点的时间复杂度是$O(n)$，中间插入、删除节点的时间复杂度是$O(1)$.\n",
    "* **什么是栈**\n",
    "栈是一种线性逻辑结构，可以用数组实现，也可以用链表实现。栈包含入栈和出栈操作，遵循先入后出的原则(FILO).\n",
    "* **什么是队列**\n",
    "队列也是一种线性逻辑结构，可以用数组实现，也可以用链表实现。队列包含入队和出队操作，遵循先入先出的原则(FIFO).\n",
    "* **什么是哈希表**\n",
    "哈希表也叫做散列表，是存储Key-Value映射的集合。对于某一个key，哈希表可以在接近$O(1)$的时间内进行读写操作。哈希表通过哈希函数实现Key和数组下标的转换，通过开放寻址法和链表法来解决哈希冲突。"
   ]
  },
  {
   "cell_type": "code",
   "execution_count": null,
   "metadata": {},
   "outputs": [],
   "source": []
  }
 ],
 "metadata": {
  "kernelspec": {
   "display_name": "Python 3",
   "language": "python",
   "name": "python3"
  },
  "language_info": {
   "codemirror_mode": {
    "name": "ipython",
    "version": 3
   },
   "file_extension": ".py",
   "mimetype": "text/x-python",
   "name": "python",
   "nbconvert_exporter": "python",
   "pygments_lexer": "ipython3",
   "version": "3.8.3"
  },
  "toc": {
   "base_numbering": 1,
   "nav_menu": {},
   "number_sections": true,
   "sideBar": true,
   "skip_h1_title": false,
   "title_cell": "Table of Contents",
   "title_sidebar": "Contents",
   "toc_cell": false,
   "toc_position": {},
   "toc_section_display": true,
   "toc_window_display": false
  },
  "varInspector": {
   "cols": {
    "lenName": 16,
    "lenType": 16,
    "lenVar": 40
   },
   "kernels_config": {
    "python": {
     "delete_cmd_postfix": "",
     "delete_cmd_prefix": "del ",
     "library": "var_list.py",
     "varRefreshCmd": "print(var_dic_list())"
    },
    "r": {
     "delete_cmd_postfix": ") ",
     "delete_cmd_prefix": "rm(",
     "library": "var_list.r",
     "varRefreshCmd": "cat(var_dic_list()) "
    }
   },
   "types_to_exclude": [
    "module",
    "function",
    "builtin_function_or_method",
    "instance",
    "_Feature"
   ],
   "window_display": false
  }
 },
 "nbformat": 4,
 "nbformat_minor": 4
}
