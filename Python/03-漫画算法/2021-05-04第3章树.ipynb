{
 "cells": [
  {
   "cell_type": "markdown",
   "metadata": {
    "ExecuteTime": {
     "end_time": "2021-05-04T12:04:06.682906Z",
     "start_time": "2021-05-04T12:04:06.664393Z"
    }
   },
   "source": [
    "# 2021-05-04第3章树\n",
    "\n",
    "**漫画算法 小灰的算法之旅**\n",
    "**作者：魏梦舒**\n",
    "**Date**: 2021-05-04 20：01\n",
    "**Author**: chenfengyuan\n",
    "**E-mail**: chenfengyuan@cqu.edu.cn\n",
    "**Goal**: 算法基础入门,熟悉基本数据结构——树。\n",
    "\n",
    "2021-05-05 update\n",
    "**二叉堆和优先队列**还需要好好理解，进一步深入。"
   ]
  },
  {
   "cell_type": "markdown",
   "metadata": {},
   "source": [
    "## 3.1 树和二叉树\n",
    "\n",
    "### 3.1.1 什么是树\n",
    "\n",
    "在数据结构中，树的定义如下：\n",
    "**树（tree）是$n(n>=1)$个节点的有限集。** 当n=0时，称为空树。在任意一个非空树中，有如下特点：\n",
    "\n",
    "1. **有且仅有一个**特定的称为根的节点。\n",
    "2. **当$n>1$时，其余节点可分为$m(m>0)$个互不相交的有限集**，每一个集合本身又是**一个树，并称为根的子树**。\n",
    "\n",
    "### 3.1.2 什么是二叉树\n",
    "\n",
    "二叉树（binary tree），树的每个节点**最多有2个孩子节点**。\n",
    ">注意：这里最多有2个，也可能只有一个，或者没有孩子节点。\n",
    "\n",
    "**满二叉树**：一个二叉树的所有非叶子节点都存在左孩子和右孩子，并且所有叶子节点都在同一层级上，那么这个树就是满二叉树。\n",
    "\n",
    "**完全二叉树**：对于一个有n个节点的二叉树，按层级顺序编号，则所有节点的编号为从1到n。如果这个树所有节点和同样深度的满二叉树的编号为从1到n的节点位置相同，则这个二叉树为完全二叉树。\n",
    "\n",
    "完全二叉树的条件没有满二叉树那么苛刻：满二叉树要求所有分支都是满的；而完全二叉树只需保证最后一个节点之前的节点都齐全即可。\n",
    "\n",
    "**二叉树的链式存储：**\n",
    "* 存储数据的data变量\n",
    "* 指向左孩子的left指针\n",
    "* 指向右孩子的right指针\n",
    "\n",
    "### 3.1.3 二叉树的应用\n",
    "\n",
    "**1.查找**\n",
    "\n",
    "**二叉查找树**\n",
    "* **如果左子树不为空，则左子树上所有节点的值均小于根节点的值**。\n",
    "* **如果右子树不为空，则右子树上所有节点的值均大于根节点的值**。\n",
    "* **左子树、右子树也都是二叉查找树**。\n",
    "\n",
    "**对于一个节点分布相对均衡**的二叉查找树来说，如果节点总数是n，那么搜索节点的时间复杂度就是$O(log n)$,和树的深度一样。\n",
    "\n",
    "依靠比较大小来逐步查找的方式，和二分查找算法非常相似。\n",
    "\n",
    "**2.维持相对顺序**\n",
    "\n",
    "二叉查找树的另一个名字**二叉排序树（binary sort tree）**\n",
    "\n",
    "二叉查找树要求左子树节点的值小于父节点的值，右子树节点的值大于父节点的值，正是这样保证了二叉树的有效性。\n",
    "\n",
    "**二叉树的自平衡**：红黑树、AVL树、树堆等。\n",
    "\n",
    "二叉堆：只要求父节点的值比它的左右孩子的值都大。\n"
   ]
  },
  {
   "cell_type": "markdown",
   "metadata": {},
   "source": [
    "## 3.2 二叉树的遍历\n",
    "\n",
    "从节点之间位置关系的角度来看，二叉树的遍历分为4种：\n",
    "1. 前序遍历。\n",
    "2. 中序遍历。\n",
    "3. 后序遍历。\n",
    "4. 层序遍历。\n",
    "\n",
    "从更宏观的角度来看，二叉树的遍历归结为两大类：\n",
    "\n",
    "1. **深度优先遍历**（前序遍历、中序遍历、后序遍历）\n",
    "2. **广度优先遍历**（层序遍历）\n",
    "\n",
    "### 3.2.2 深度优先遍历\n",
    "\n",
    "深度优先，偏向于纵深，“一头扎到底”的访问方式。\n",
    "\n",
    "**1.前序遍历**\n",
    "\n",
    "二叉树的前序遍历，输出顺序是**根节点、左子树、右子树。**\n",
    "\n",
    "**2.中序遍历**\n",
    "\n",
    "二叉树的中序遍历，输出顺序是**左子树、根节点、右子树。**\n",
    "\n",
    "**3.后序遍历**\n",
    "\n",
    "二叉树的后序遍历，输出顺序是**左子树、右子树、根节点。**"
   ]
  },
  {
   "cell_type": "code",
   "execution_count": 5,
   "metadata": {
    "ExecuteTime": {
     "end_time": "2021-05-04T13:18:14.360111Z",
     "start_time": "2021-05-04T13:18:14.344092Z"
    }
   },
   "outputs": [
    {
     "name": "stdout",
     "output_type": "stream",
     "text": [
      "前序遍历：\n",
      "3\n",
      "2\n",
      "9\n",
      "10\n",
      "8\n",
      "4\n",
      "中序遍历：\n",
      "9\n",
      "2\n",
      "10\n",
      "3\n",
      "8\n",
      "4\n",
      "后序遍历：\n",
      "9\n",
      "10\n",
      "2\n",
      "4\n",
      "8\n",
      "3\n"
     ]
    },
    {
     "data": {
      "text/plain": [
       "<__main__.TreeNode at 0x17909c6b490>"
      ]
     },
     "execution_count": 5,
     "metadata": {},
     "output_type": "execute_result"
    }
   ],
   "source": [
    "\"\"\"二叉树的前序、中序、后序遍历代码+使用递归\"\"\"\n",
    "\n",
    "\n",
    "class TreeNode:\n",
    "    def __init__(self, data):\n",
    "        self.data = data\n",
    "        self.left = None\n",
    "        self.right = None\n",
    "\n",
    "\n",
    "def create_binary_tree(input_list=[]):\n",
    "    \"\"\"\n",
    "    构建二叉树\n",
    "    :param input_list: 输入数列\n",
    "    \"\"\"\n",
    "    if input_list is None or len(input_list) == 0:\n",
    "        return None\n",
    "    data = input_list.pop(0)\n",
    "    if data is None:\n",
    "        return None\n",
    "    node = TreeNode(data)\n",
    "    node.left = create_binary_tree(input_list)\n",
    "    node.right = create_binary_tree(input_list)\n",
    "    return node\n",
    "\n",
    "\n",
    "def pre_order_traversal(node):\n",
    "    \"\"\"\n",
    "    前序遍历\n",
    "    :param node: 二叉树节点\n",
    "    \"\"\"\n",
    "    if node is None:\n",
    "        return\n",
    "    print(node.data)  # 输出当前层级根节点\n",
    "    pre_order_traversal(node.left)  # 输出根节点的左孩子\n",
    "    pre_order_traversal(node.right)  # 输出根节点的右孩子\n",
    "    return node\n",
    "\n",
    "\n",
    "def in_order_traversal(node):\n",
    "    \"\"\"\n",
    "    中序遍历\n",
    "    :param node: 二叉树节点\n",
    "    \"\"\"\n",
    "    if node is None:\n",
    "        return\n",
    "    in_order_traversal(node.left)  # 输出根节点的左孩子\n",
    "    print(node.data)  # 输出当前层级根节点\n",
    "    in_order_traversal(node.right)  # 输出根节点的右孩子\n",
    "    return node\n",
    "\n",
    "\n",
    "def post_order_traversal(node):\n",
    "    \"\"\"\n",
    "    后序遍历\n",
    "    :param node: 二叉树节点\n",
    "    \"\"\"\n",
    "    if node is None:\n",
    "        return\n",
    "    post_order_traversal(node.left)  # 输出根节点的左孩子\n",
    "    post_order_traversal(node.right)  # 输出根节点的右孩子\n",
    "    print(node.data)  # 输出当前层级根节点\n",
    "    return node\n",
    "\n",
    "\n",
    "my_input_list = list([3, 2, 9, None, None, 10, None, None, 8, None, 4])\n",
    "\n",
    "root = create_binary_tree(my_input_list)\n",
    "print(\"前序遍历：\")\n",
    "pre_order_traversal(root)\n",
    "print(\"中序遍历：\")\n",
    "in_order_traversal(root)\n",
    "print(\"后序遍历：\")\n",
    "post_order_traversal(root)"
   ]
  },
  {
   "cell_type": "code",
   "execution_count": 7,
   "metadata": {
    "ExecuteTime": {
     "end_time": "2021-05-04T13:22:32.492434Z",
     "start_time": "2021-05-04T13:22:32.472910Z"
    }
   },
   "outputs": [],
   "source": [
    "\"\"\"二叉树非递归前序遍历\"\"\"\n",
    "\"\"\"\n",
    "2021-05-04 没有读懂，需要花时间继续搞懂\n",
    "21:35 懂了😂\n",
    "\"\"\"\n",
    "def pre_order_traversal_with_stack(node):\n",
    "    stack = []\n",
    "    while node is not None or len(stack) > 0:\n",
    "        while node is not None:\n",
    "            print(node.data)\n",
    "            stack.append(node)\n",
    "            node = node.left\n",
    "        if len(stack) > 0:\n",
    "            node = stack.pop()\n",
    "            node = node.right\n",
    "            "
   ]
  },
  {
   "cell_type": "markdown",
   "metadata": {},
   "source": [
    "### 3.2.3 广度优先遍历\n",
    "\n",
    "层序遍历，就是二叉树按照从根节点到叶子节点的层次关系，一层一层横向遍历各个节点。\n",
    "\n",
    "**二叉树的层序遍历，借助队列**"
   ]
  },
  {
   "cell_type": "code",
   "execution_count": 1,
   "metadata": {
    "ExecuteTime": {
     "end_time": "2021-05-05T02:25:19.596123Z",
     "start_time": "2021-05-05T02:25:19.575128Z"
    }
   },
   "outputs": [],
   "source": [
    "from queue import Queue\n",
    "\n",
    "def level_order_traversal(node):\n",
    "    queue = Queue()\n",
    "    queue.put(node)\n",
    "    while not queue.empty():\n",
    "        node = queue.get()\n",
    "        print(node.data)\n",
    "        if node.left is not None:\n",
    "            queue.put(node.left)\n",
    "        if node.right is not None:\n",
    "            queue.put(node.right)\n"
   ]
  },
  {
   "cell_type": "markdown",
   "metadata": {},
   "source": [
    "## 3.3 什么是二叉堆\n",
    "\n",
    "### 3.3.1 初识二叉堆\n",
    "\n",
    "二叉堆本质上是一种完全二叉树，它分为两种类型：\n",
    "1. **最大堆**：最大堆的任何一个父节点的值，都大于或等于它左孩子或右孩子节点的值。\n",
    "2. **最小堆**：最小堆的任何一个父节点的值，都小于或等于它左孩子或右孩子节点的值。\n",
    "\n",
    "二叉堆的根节点叫做**堆顶**，最大堆的堆顶是整个堆中的最大元素，最小堆的堆顶是整个堆中最小的元素。\n",
    "\n",
    "### 3.3.2 二叉堆的自我调整\n",
    "\n",
    "1. **插入节点**\n",
    "2. **删除节点**\n",
    "3. **构建二叉堆**\n",
    "\n",
    "### 3.3.3 二叉堆的代码实现\n",
    "\n",
    "二叉堆是一个完全二叉树，存储方式是**顺序存储**。二叉堆的所有节点都存储在数组中。\n",
    "\n",
    "假设父节点的下标是parent，那么它的左孩子的下标就是2*parent+1*,右孩子的下标就是2*parent+2.\n"
   ]
  },
  {
   "cell_type": "code",
   "execution_count": 7,
   "metadata": {
    "ExecuteTime": {
     "end_time": "2021-05-05T03:36:52.660749Z",
     "start_time": "2021-05-05T03:36:52.641229Z"
    }
   },
   "outputs": [
    {
     "name": "stdout",
     "output_type": "stream",
     "text": [
      "[0, 1, 2, 6, 3, 7, 8, 9, 10, 5]\n",
      "[1, 5, 2, 6, 7, 3, 8, 9, 10]\n"
     ]
    }
   ],
   "source": [
    "\"\"\"二叉堆的代码实现\"\"\"\n",
    "\n",
    "\n",
    "def up_adjust(array=[]):\n",
    "    \"\"\"\n",
    "    二叉堆的尾节点上浮操作\n",
    "    :param array: 原数组\n",
    "    \"\"\"\n",
    "    child_index = len(array) - 1 # 尾节点的索引\n",
    "    parent_index = (child_index - 1) // 2 # 计算尾节点的父节点\n",
    "    # temp保存插入的叶子节点值，用于最后的赋值\n",
    "    temp = array[child_index]\n",
    "    while child_index > 0 and temp < array[parent_index]: \n",
    "        # 尾节点索引大于0并且插入节点小于父节点值\n",
    "        # 无须真正交换，单向赋值即可\n",
    "        array[child_index] = array[parent_index] # 把父节点值赋给尾节点\n",
    "        child_index = parent_index # 父节点的索引赋给尾节点\n",
    "        parent_index = (parent_index - 1) // 2 # 计算父节点的父节点索引\n",
    "        \"\"\"第二个循环以后，就是插入叶子节点和父节点的父节点进行比较\"\"\"\n",
    "    array[child_index] = temp # 把插入值赋给最终的父节点\n",
    "    \n",
    "def down_adjust(parent_index, length, array):\n",
    "    \"\"\"\n",
    "    二叉堆的节点下沉操作\n",
    "    :param parent_index: 待下沉的节点下标\n",
    "    :param length: 堆的长度范围\n",
    "    :param array: 原数组\n",
    "    \"\"\"\n",
    "    # temp保存父节点值，用于最后的赋值\n",
    "    temp = array[parent_index]\n",
    "    child_index = 2 * parent_index + 1\n",
    "    while child_index < length:\n",
    "        # 如果有右孩子，且右孩子的值小于左孩子的值，则定位到右孩子\n",
    "        if child_index + 1 < length and array[child_index + 1] < array[child_index]:\n",
    "            child_index += 1\n",
    "        # 如果父节点的值小于任何一个孩子的值，直接跳出\n",
    "        if temp <= array[child_index]:\n",
    "            break\n",
    "        # 无须真正交换，单向赋值即可\n",
    "        array[parent_index] = array[child_index] # 孩子节点的值赋给父节点\n",
    "        parent_index = child_index # 孩子节点的索引赋给父节点索引\n",
    "        child_index = 2 * child_index + 1\n",
    "    array[parent_index] = temp\n",
    "    \n",
    "def build_heap(array=[]):\n",
    "    \"\"\"\n",
    "    二叉堆的构建操作\n",
    "    :param array: 原数组\n",
    "    \"\"\"\n",
    "    # 从最后一个非叶子节点开始，依次下沉调整\n",
    "    for i in range((len(array) - 2) // 2, -1, -1):\n",
    "        down_adjust(i, len(array), array)\n",
    "        \n",
    "my_array = list([1, 3, 2, 6, 5, 7, 8, 9, 10, 0])\n",
    "up_adjust(my_array)\n",
    "print(my_array)\n",
    "my_array1 = list([7, 1, 3, 10, 5, 2, 8, 9, 6])\n",
    "build_heap(my_array1)\n",
    "print(my_array1)"
   ]
  },
  {
   "cell_type": "markdown",
   "metadata": {},
   "source": [
    "## 3.4 什么是优先队列\n",
    "\n",
    "### 3.4.1 优先队列的特点\n",
    "\n",
    "队列的特点是**先进先出（FIFO）**\n",
    "\n",
    "优先队列不再遵循先入先出的原则，分为两种情况：\n",
    "* **最大优先队列，无论入队顺序如何，都是当前最大的元素优先出队。**\n",
    "* **最小优先队列，无论入队顺序如何，都是当前最小的元素优先出队。**\n",
    "\n",
    "### 3.4.2 优先队列的实现\n",
    "\n",
    "二叉堆的特性：\n",
    "1. **最大堆的堆顶是整个堆中的最大元素。**\n",
    "2. **最小堆的堆顶是整个堆中的最小元素。**\n",
    "\n",
    "因此，可以用最大堆来实现最大优先队列，每一次入队操作就是堆的插入操作，每一次出队操作就是删除堆顶节点。\n",
    "\n"
   ]
  },
  {
   "cell_type": "code",
   "execution_count": 10,
   "metadata": {
    "ExecuteTime": {
     "end_time": "2021-05-05T04:17:23.531466Z",
     "start_time": "2021-05-05T04:17:23.523301Z"
    }
   },
   "outputs": [
    {
     "name": "stdout",
     "output_type": "stream",
     "text": [
      "10\n",
      "7\n"
     ]
    }
   ],
   "source": [
    "\"\"\"优先队列的实现\"\"\"\n",
    "\n",
    "class PriorityQueue:\n",
    "    def __init__(self):\n",
    "        self.array = []\n",
    "        self.size = 0\n",
    "        \n",
    "    def enqueue(self, element):\n",
    "        self.array.append(element)\n",
    "        self.size += 1\n",
    "        self.up_adjust()\n",
    "        \n",
    "    def dequeue(self):\n",
    "        if self.size < 0:\n",
    "            raise Exception(\"队列为空！\")\n",
    "        head = self.array[0]\n",
    "        self.array[0] = self.array[self.size-1]\n",
    "        self.size -= 1\n",
    "        self.down_adjust()\n",
    "        return head\n",
    "    \n",
    "    def up_adjust(self):\n",
    "        child_index = self.size - 1\n",
    "        parent_index = (child_index - 1) // 2\n",
    "        # temp 保存插入的叶子节点值，用于最后的赋值\n",
    "        temp = self.array[child_index]\n",
    "        while child_index > 0 and temp > self.array[parent_index]:\n",
    "            # 尾节点索引大于0并且插入节点大于父节点值\n",
    "            # 无须真正交换，单向赋值即可\n",
    "            self.array[child_index] = self.array[parent_index]\n",
    "            child_index = parent_index\n",
    "            parent_index = (parent_index - 1) // 2\n",
    "        self.array[child_index] = temp\n",
    "        \n",
    "    def down_adjust(self):\n",
    "        parent_index = 0\n",
    "        # temp保存父节点值，用于最后的赋值\n",
    "        temp = self.array[parent_index]\n",
    "        child_index = 1\n",
    "        while child_index < self.size:\n",
    "            # 如果有右孩子，且右孩子的值大于左孩子的值，则定位到右孩子\n",
    "            if child_index + 1 < self.size and self.array[child_index + 1] > self.array[child_index]:\n",
    "                child_index += 1\n",
    "            # 如果父节点的值大于任何一个孩子的值，直接跳出\n",
    "            if temp >= self.array[child_index]:\n",
    "                break\n",
    "            # 无须真正交换，单向赋值即可\n",
    "            self.array[parent_index] = self.array[child_index]\n",
    "            parent_index = child_index\n",
    "            child_index = 2 * child_index + 1\n",
    "        self.array[parent_index] = temp\n",
    "\n",
    "queue = PriorityQueue()\n",
    "queue.enqueue(3)\n",
    "queue.enqueue(5)\n",
    "queue.enqueue(10)\n",
    "queue.enqueue(2)\n",
    "queue.enqueue(7)\n",
    "print(queue.dequeue())\n",
    "print(queue.dequeue())"
   ]
  },
  {
   "cell_type": "markdown",
   "metadata": {},
   "source": [
    "## 3.5 小结\n",
    "\n",
    "* **什么是树** \n",
    "\n",
    "树是n个节点的有限集，有且仅有一个特定的称为根的节点。当n>1时，其余节点可分为m个互不相交的有限集，每一个集合本身又是一个树，称为根的子树。\n",
    "\n",
    "* **什么是二叉树**\n",
    "\n",
    "二叉树是树的一种特殊形式，每一个节点最多有两个孩子节点。二叉树包含完全二叉树和满二叉树两种特殊形式。\n",
    "\n",
    "* **二叉树的遍历方式** \n",
    "\n",
    "根据节点之间的位置关系，可以分为前序遍历、中序遍历、后序遍历、层次遍历这4种方式；从更宏观的角度划分，可以分为深度优先遍历和广度优先遍历两大类。\n",
    "\n",
    "* **什么是二叉堆** \n",
    "\n",
    "二叉堆是一种特殊的完全二叉树，分为最大堆和最小堆。\n",
    "在最大堆中，任何一个父节点的值，都大于或等于它的左孩子、右孩子节点的值。\n",
    "在最小堆中，任何一个父节点的值，都小于或等于它的左孩子、右孩子节点的值。\n",
    "\n",
    "* **什么是优先队列** \n",
    "优先队列分为最大优先队列和最小优先队列。\n",
    "在最大优先队列中，无论入队顺序如何，当前最大的元素都会优先出队，这是基于最大堆实现的。\n",
    "在最小优先队列中，无论入队顺序如何，当前最小的元素都会优先出队，这是基于最小堆实现的。"
   ]
  },
  {
   "cell_type": "code",
   "execution_count": null,
   "metadata": {},
   "outputs": [],
   "source": []
  }
 ],
 "metadata": {
  "kernelspec": {
   "display_name": "Python 3",
   "language": "python",
   "name": "python3"
  },
  "language_info": {
   "codemirror_mode": {
    "name": "ipython",
    "version": 3
   },
   "file_extension": ".py",
   "mimetype": "text/x-python",
   "name": "python",
   "nbconvert_exporter": "python",
   "pygments_lexer": "ipython3",
   "version": "3.8.3"
  },
  "toc": {
   "base_numbering": 1,
   "nav_menu": {},
   "number_sections": true,
   "sideBar": true,
   "skip_h1_title": false,
   "title_cell": "Table of Contents",
   "title_sidebar": "Contents",
   "toc_cell": false,
   "toc_position": {
    "height": "calc(100% - 180px)",
    "left": "10px",
    "top": "150px",
    "width": "165px"
   },
   "toc_section_display": true,
   "toc_window_display": true
  },
  "varInspector": {
   "cols": {
    "lenName": 16,
    "lenType": 16,
    "lenVar": 40
   },
   "kernels_config": {
    "python": {
     "delete_cmd_postfix": "",
     "delete_cmd_prefix": "del ",
     "library": "var_list.py",
     "varRefreshCmd": "print(var_dic_list())"
    },
    "r": {
     "delete_cmd_postfix": ") ",
     "delete_cmd_prefix": "rm(",
     "library": "var_list.r",
     "varRefreshCmd": "cat(var_dic_list()) "
    }
   },
   "types_to_exclude": [
    "module",
    "function",
    "builtin_function_or_method",
    "instance",
    "_Feature"
   ],
   "window_display": false
  }
 },
 "nbformat": 4,
 "nbformat_minor": 4
}
