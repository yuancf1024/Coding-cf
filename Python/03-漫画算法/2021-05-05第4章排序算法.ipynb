{
 "cells": [
  {
   "cell_type": "markdown",
   "metadata": {},
   "source": [
    "# 2021-05-04第4章排序算法\n",
    "\n",
    "**漫画算法 小灰的算法之旅**\n",
    "**作者：魏梦舒**\n",
    "**Date**: 2021-05-05 14：43\n",
    "**Author**: chenfengyuan\n",
    "**E-mail**: chenfengyuan@cqu.edu.cn\n",
    "**Goal**: 算法基础入门,排序算法。\n",
    "\n",
    "2021-05-05 update\n"
   ]
  },
  {
   "cell_type": "markdown",
   "metadata": {},
   "source": [
    "## 4.1 引言\n",
    "\n",
    "根据时间复杂度的不同，主流的排序算法可以分为3大类。\n",
    "\n",
    "1. **时间复杂度为$O(n^2)$的排序算法**\n",
    "* 冒泡排序\n",
    "* 选择排序\n",
    "* 插入排序\n",
    "* 希尔排序（希尔排序比较特殊，它的性能略优于$O(n^2)$，但又比不上$O(nlogn)$,姑且把它归入本类）\n",
    "\n",
    "2. **时间复杂度为$O(nlogn)$的排序算法**\n",
    "* 快速排序\n",
    "* 归并排序\n",
    "* 堆排序\n",
    "\n",
    "3. **时间复杂度为线性的排序算法**\n",
    "* 计数排序\n",
    "* 桶排序\n",
    "* 基数排序\n",
    "\n",
    "讲解几个有代表性的排序算法：**冒泡排序、快速排序、堆排序、计数排序、桶排序**。\n",
    "\n"
   ]
  },
  {
   "cell_type": "markdown",
   "metadata": {},
   "source": [
    "## 4.2 什么是冒泡排序\n",
    "\n",
    "### 4.2.1 初识冒泡排序\n",
    "\n",
    "冒泡排序的英文是**bubble sort**,它是一种基础的**交换排序**。\n",
    "\n",
    "冒泡排序是一种**稳定排序**，值相等的元素并不会打乱原本顺序。由于该排序算法的每一轮都要遍历所有元素，总共遍历（*元素数量-1*）轮，所以平均时间复杂度是$O(n^2)$."
   ]
  },
  {
   "cell_type": "code",
   "execution_count": 7,
   "metadata": {
    "ExecuteTime": {
     "end_time": "2021-06-21T02:44:18.395072Z",
     "start_time": "2021-06-21T02:44:18.384073Z"
    }
   },
   "outputs": [
    {
     "name": "stdout",
     "output_type": "stream",
     "text": [
      "[-1, 0, 1, 1, 3, 4, 5, 6, 7, 8, 9, 11, 14]\n"
     ]
    }
   ],
   "source": [
    "\"\"\"冒泡排序算法第1版\"\"\"\n",
    "\n",
    "def bubble_sort_v1(array=[]):\n",
    "    for i in range(len(array)-1):\n",
    "        for j in range(len(array)-i-1):\n",
    "            if array[j] > array[j+1]: # 升序排序，从小到大\n",
    "                temp = array[j]\n",
    "                array[j] = array[j+1]\n",
    "                array[j+1] = temp\n",
    "                \n",
    "my_array = list([3, 4, 14, 1, 5, 6, 7, 8, 1, -1, 0, 9, 11])\n",
    "bubble_sort_v1(my_array)\n",
    "print(my_array)"
   ]
  },
  {
   "cell_type": "markdown",
   "metadata": {},
   "source": [
    "### 4.2.2 冒泡排序的优化\n",
    "\n",
    "增加可以判断出数列是否已经有序的功能，当数列已经有序，剩下的排序就不必执行，可以提前结束工作。"
   ]
  },
  {
   "cell_type": "code",
   "execution_count": 8,
   "metadata": {
    "ExecuteTime": {
     "end_time": "2021-06-21T02:46:07.377762Z",
     "start_time": "2021-06-21T02:46:07.363763Z"
    }
   },
   "outputs": [
    {
     "name": "stdout",
     "output_type": "stream",
     "text": [
      "[-1, 0, 1, 1, 3, 4, 5, 6, 7, 8, 9, 11, 14]\n"
     ]
    }
   ],
   "source": [
    "\"\"\"冒泡排序算法第1版\"\"\"\n",
    "\n",
    "def bubble_sort_v2(array=[]):\n",
    "    for i in range(len(array)-1):\n",
    "        # 有序标记，每一轮的初始是True\n",
    "        is_sorted = True\n",
    "        for j in range(len(array)-i-1):\n",
    "            if array[j] > array[j+1]:\n",
    "                temp = array[j]\n",
    "                array[j] = array[j+1]\n",
    "                array[j+1] = temp\n",
    "                # 有元素交换，所以不是有序的，标记变为False\n",
    "                is_sorted = False\n",
    "        if is_sorted:\n",
    "            break\n",
    "my_array = list([3, 4, 14, 1, 5, 6, 7, 8, 1, -1, 0, 9, 11])\n",
    "bubble_sort_v2(my_array)\n",
    "print(my_array)"
   ]
  },
  {
   "cell_type": "markdown",
   "metadata": {},
   "source": [
    "**如何避免数列有序区的长度大于排序的轮数时，进行的多余比较**\n",
    "\n",
    "**在每一轮排序后，记录下最后一次元素交换的位置，该位置即为无序数列的边界，再往后就是有序区了。**"
   ]
  },
  {
   "cell_type": "code",
   "execution_count": 6,
   "metadata": {
    "ExecuteTime": {
     "end_time": "2021-05-05T07:20:05.067952Z",
     "start_time": "2021-05-05T07:20:05.057680Z"
    }
   },
   "outputs": [
    {
     "name": "stdout",
     "output_type": "stream",
     "text": [
      "[-1, 0, 1, 1, 3, 4, 5, 6, 7, 8, 9, 11, 14]\n"
     ]
    }
   ],
   "source": [
    "\"\"\"冒泡排序算法第3版\"\"\"\n",
    "\n",
    "def bubble_sort_v3(array=[]):\n",
    "    # 记录下最后一次交换的位置\n",
    "    last_exchange_index = 0\n",
    "    # 无序数列的边界，每次比较只需要比到这里\n",
    "    sort_border = len(array)-1\n",
    "    for i in range(len(array)-1):\n",
    "        # 有序标记，每一轮的初始是True\n",
    "        is_sorted = True\n",
    "        for j in range(sort_border):\n",
    "            if array[j] > array[j+1]:\n",
    "                temp = array[j]\n",
    "                array[j] = array[j+1]\n",
    "                array[j+1] = temp\n",
    "                # 有元素交换，所以不是有序的，标记变为False\n",
    "                is_sorted = False\n",
    "                # 把无序数列的边界更新为最后一次交换元素的位置\n",
    "                last_exchange_index = j\n",
    "        sort_border = last_exchange_index\n",
    "        if is_sorted:\n",
    "            break\n",
    "my_array = list([3, 4, 14, 1, 5, 6, 7, 8, 1, -1, 0, 9, 11])\n",
    "bubble_sort_v3(my_array)\n",
    "print(my_array)"
   ]
  },
  {
   "cell_type": "markdown",
   "metadata": {},
   "source": [
    "### 4.2.3 鸡尾酒排序\n",
    "\n",
    "冒泡排序算法的每一轮都是**从左到右来比较元素，并进行单向的位置交换的。**\n",
    "\n",
    "鸡尾酒排序的元素比较和交换过程是双向的。\n",
    "\n",
    "鸡尾酒排序的过程就像钟摆一样，第1轮从左到右，第2轮从右到左，第3轮再从左到右..."
   ]
  },
  {
   "cell_type": "code",
   "execution_count": 11,
   "metadata": {
    "ExecuteTime": {
     "end_time": "2021-06-21T03:42:29.431273Z",
     "start_time": "2021-06-21T03:42:29.410274Z"
    }
   },
   "outputs": [
    {
     "name": "stdout",
     "output_type": "stream",
     "text": [
      "[-1, 0, 1, 1, 3, 4, 5, 6, 7, 8, 9, 11, 14]\n"
     ]
    }
   ],
   "source": [
    "\"\"\"鸡尾酒排序算法的实现\"\"\"\n",
    "%timeit\n",
    "def cock_tail_sort(array=[]):\n",
    "    for i in range(len(array) // 2):\n",
    "        # 有序标记，每一轮的初始是True\n",
    "        is_sorted = True\n",
    "        # 奇数轮，从左到右比较和交换\n",
    "        for j in range(i, len(array)-i-1):\n",
    "            if array[j] > array[j+1]:\n",
    "                temp = array[j]\n",
    "                array[j] = array[j+1]\n",
    "                array[j+1] = temp\n",
    "                # 有元素交换，所以不是有序的，标记变为False\n",
    "                is_sorted = False\n",
    "        if is_sorted:\n",
    "            break\n",
    "        # 偶数轮之前，重新标记为True\n",
    "        is_sorted = True\n",
    "        # 偶数轮，从右向左比较和交换\n",
    "        for j in range(len(array)-i-1, i, -1):\n",
    "            if array[j] < array[j-1]:\n",
    "                temp = array[j]\n",
    "                array[j] = array[j-1]\n",
    "                array[j-1] = temp\n",
    "                # 有元素交换，所以不是有序的，标记变为False\n",
    "                is_sorted = False\n",
    "        if is_sorted:\n",
    "            break\n",
    "my_array = list([3, 4, 14, 1, 5, 6, 7, 8, 1, -1, 0, 9, 11])\n",
    "cock_tail_sort(my_array)\n",
    "print(my_array)"
   ]
  },
  {
   "cell_type": "markdown",
   "metadata": {},
   "source": [
    "## 4.3 什么是快速排序\n",
    "\n",
    "### 4.3.1 初识快速排序\n",
    "\n",
    "冒泡排序在每一轮中只把1个元素冒泡到数列的一端，而快速排序则**在每一轮挑选一个基准元素，并让其他比它大的元素移动到数列一边，比它小的元素移动到数列的另一边，从而把数列拆解成两个部分。**\n",
    "\n",
    "思路：**分治法**。\n",
    "\n",
    "### 4.3.2 基准元素的选择\n",
    "\n",
    "基准元素，英文是pivot，在分治过程中，以基准元素为中心，把其他元素移动到它的左右两边。\n",
    "\n",
    "**随机选择一个元素作为基准元素**\n",
    "\n",
    "### 4.3.3元素的交换\n",
    "\n",
    "1. **双边循环法** : 使用左右指针，会有指针指向元素的互换。\n",
    "2. **单边循环法** ：只从数组的一边对元素进行遍历和交换。\n",
    "\n"
   ]
  },
  {
   "cell_type": "code",
   "execution_count": 1,
   "metadata": {
    "ExecuteTime": {
     "end_time": "2021-05-05T08:18:16.184613Z",
     "start_time": "2021-05-05T08:18:16.176098Z"
    }
   },
   "outputs": [
    {
     "name": "stdout",
     "output_type": "stream",
     "text": [
      "[-1, 0, 1, 1, 3, 4, 5, 6, 7, 8, 9, 11, 14]\n"
     ]
    }
   ],
   "source": [
    "\"\"\"双边循环法实现的快速排序，递归实现\"\"\"\n",
    "\n",
    "def quick_sort(start_index, end_index, array=[]):\n",
    "    # 递归结束条件：start_index 大于等于end_index的时候\n",
    "    if start_index >= end_index:\n",
    "        return \n",
    "    # 得到基准元素位置\n",
    "    pivot_index = partition_v1(start_index, end_index, array)\n",
    "    # 根据基准元素，分成两部分递归排序\n",
    "    quick_sort(start_index, pivot_index - 1, array)\n",
    "    quick_sort(pivot_index + 1, end_index, array)\n",
    "    \n",
    "def partition_v1(start_index, end_index, array=[]):\n",
    "    # 取第一个位置的元素作为基准元素（也可以选择随机位置）\n",
    "    pivot = array[start_index]\n",
    "    left = start_index\n",
    "    right = end_index\n",
    "    while left != right:\n",
    "        # 控制right指针进行比较并左移\n",
    "        while left < right and array[right] > pivot:\n",
    "            right -= 1\n",
    "        # 控制left指针进行比较并右移\n",
    "        while left < right and array[left] <= pivot:\n",
    "            left += 1\n",
    "        # 交换left指针和right指针指向的元素\n",
    "        if left < right:\n",
    "            p = array[left]\n",
    "            array[left] = array[right]\n",
    "            array[right] = p\n",
    "    # pivot和指针重合点交换\n",
    "    array[start_index] = array[left]\n",
    "    array[left] = pivot\n",
    "    return left\n",
    "\n",
    "my_array = list([3, 4, 14, 1, 5, 6, 7, 8, 1, -1, 0, 9, 11])\n",
    "quick_sort(0, len(my_array)-1, my_array)\n",
    "print(my_array)"
   ]
  },
  {
   "cell_type": "markdown",
   "metadata": {},
   "source": [
    "### 4.3.4 单边循环法\n",
    "\n",
    "单边循环法，只从数组的一边对元素进行遍历和交换。"
   ]
  },
  {
   "cell_type": "code",
   "execution_count": 2,
   "metadata": {
    "ExecuteTime": {
     "end_time": "2021-05-05T08:40:48.418279Z",
     "start_time": "2021-05-05T08:40:48.405278Z"
    }
   },
   "outputs": [
    {
     "name": "stdout",
     "output_type": "stream",
     "text": [
      "[-1, 0, 1, 1, 3, 4, 5, 6, 7, 8, 9, 11, 14]\n"
     ]
    }
   ],
   "source": [
    "\"\"\"单边循环法实现的快速排序，递归实现\"\"\"\n",
    "\n",
    "def quick_sort(start_index, end_index, array=[]):\n",
    "    # 递归结束条件：start_index 大于等于end_index的时候\n",
    "    if start_index >= end_index:\n",
    "        return \n",
    "    # 得到基准元素位置\n",
    "    pivot_index = partition_v2(start_index, end_index, array)\n",
    "    # 根据基准元素，分成两部分递归排序\n",
    "    quick_sort(start_index, pivot_index-1, array)\n",
    "    quick_sort(pivot_index + 1, end_index, array)\n",
    "\n",
    "def partition_v2(start_index, end_index, array=[]):\n",
    "    # 取第一个位置的元素作为基准元素（也可以选择随机位置）\n",
    "    pivot = array[start_index]\n",
    "    mark = start_index\n",
    "    for i in range(start_index+1, end_index +1):\n",
    "        if array[i] < pivot:\n",
    "            mark += 1\n",
    "            p = array[mark]\n",
    "            array[mark] = array[i]\n",
    "            array[i] = p\n",
    "    array[start_index] = array[mark]\n",
    "    array[mark] = pivot\n",
    "    return mark\n",
    "\n",
    "my_array = list([3, 4, 14, 1, 5, 6, 7, 8, 1, -1, 0, 9, 11])\n",
    "quick_sort(0, len(my_array)-1, my_array)\n",
    "print(my_array)"
   ]
  },
  {
   "cell_type": "markdown",
   "metadata": {},
   "source": [
    "### 4.3.5 非递归的快速排序算法实现\n",
    "\n",
    "绝大多数的递归逻辑，都可以用栈的方式来代替。\n",
    "\n",
    "代码中一层一层的方法调用，本身就使用了一个方法调用栈。每次进入一个新方法，就相当于入栈；每次有方法返回，就相当于出栈。\n",
    "\n",
    "所以，可以把原本的递归实现转化成一个栈的实现，在栈中存储每一次方法调用的参数。\n",
    "\n"
   ]
  },
  {
   "cell_type": "code",
   "execution_count": 4,
   "metadata": {
    "ExecuteTime": {
     "end_time": "2021-05-05T09:06:11.295882Z",
     "start_time": "2021-05-05T09:06:11.281624Z"
    }
   },
   "outputs": [
    {
     "name": "stdout",
     "output_type": "stream",
     "text": [
      "[-1, 0, 1, 1, 3, 4, 5, 6, 7, 8, 9, 11, 14]\n"
     ]
    }
   ],
   "source": [
    "\"\"\"非递归的快速排序算法实现\"\"\"\n",
    "\n",
    "def quick_sort(start_index, end_index, array=[]):\n",
    "    \n",
    "    # 用一个集合栈来代替递归的函数栈\n",
    "    quick_sort_stack = []\n",
    "    # 整个数列的起止下标，以哈希的形式入栈\n",
    "    root_param = {\"startIndex\": start_index,\"endIndex\":end_index}\n",
    "    quick_sort_stack.append(root_param)\n",
    "    # 循环结束条件：栈为空时结束\n",
    "    while len(quick_sort_stack) > 0:\n",
    "        # 栈顶元素出栈，得到起止下标\n",
    "        param = quick_sort_stack.pop()\n",
    "        # 得到基准元素位置\n",
    "        pivot_index = partition(param.get(\"startIndex\"), param.get(\"endIndex\"), array)\n",
    "        # 根据基准元素分成两部分，把每一部分的起止下标入栈\n",
    "        if param.get(\"startIndex\") < pivot_index -1:\n",
    "            left_param = {\"startIndex\": param.get(\"startIndex\"),\"endIndex\": pivot_index - 1}\n",
    "            quick_sort_stack.append(left_param)\n",
    "        if pivot_index + 1 < param.get(\"endIndex\"):\n",
    "            right_param = {\"startIndex\": pivot_index + 1, \"endIndex\": param.get(\"endIndex\")}\n",
    "            quick_sort_stack.append(right_param)\n",
    "            \n",
    "def partition(start_index, end_index, array=[]):\n",
    "    # 取第一个位置的元素作为基准元素（也可以选择随机位置）\n",
    "    pivot = array[start_index]\n",
    "    mark = start_index\n",
    "    for i in range(start_index+1, end_index+1):\n",
    "        if array[i] < pivot:\n",
    "            mark += 1\n",
    "            p = array[mark]\n",
    "            array[mark] = array[i]\n",
    "            array[i] = p\n",
    "    array[start_index] = array[mark]\n",
    "    array[mark] = pivot\n",
    "    return mark\n",
    "\n",
    "my_array = list([3, 4, 14, 1, 5, 6, 7, 8, 1, -1, 0, 9, 11])\n",
    "quick_sort(0, len(my_array)-1, my_array)\n",
    "print(my_array)"
   ]
  },
  {
   "cell_type": "markdown",
   "metadata": {},
   "source": [
    "## 4.4 什么是堆排序\n",
    "\n",
    "### 4.4.1 传说中的堆排序\n",
    "\n",
    "由于二叉堆的特性，每一次删除旧堆顶，调整后的新堆顶都是大小仅依次于旧堆顶的节点。\n",
    "\n",
    "堆排序算法的步骤：\n",
    "\n",
    "1. **把无序数组构建成二叉堆。需要从小到大排序，则构成最大堆；需要从大到小排序，则构建成最小堆。**\n",
    "2. **循环删除堆顶元素，替换到二叉堆的末尾，调整堆产生新的堆项。**\n",
    "\n",
    "### 4.4.2 堆排序的代码实现\n",
    "\n"
   ]
  },
  {
   "cell_type": "code",
   "execution_count": 1,
   "metadata": {
    "ExecuteTime": {
     "end_time": "2021-06-23T07:52:47.265083Z",
     "start_time": "2021-06-23T07:52:47.250084Z"
    },
    "scrolled": true
   },
   "outputs": [
    {
     "name": "stdout",
     "output_type": "stream",
     "text": [
      "[-1, 0, 1, 1, 3, 4, 5, 6, 7, 8, 9, 11, 14]\n"
     ]
    }
   ],
   "source": [
    "\"\"\"堆排序的代码实现\"\"\"\n",
    "\n",
    "def heap_sort(array=[]):\n",
    "    # 1.把无序数组构建成最大堆\n",
    "    for i in range((len(array)-2) // 2, -1, -1):\n",
    "        down_adjust(i, len(array), array) \n",
    "        \"\"\"down_adjust函数从第3层开始，把孩子节点大的值上浮\"\"\"\n",
    "    # 2.循环交换集合尾部元素到堆顶，并调节堆产生新的堆项\n",
    "    for i in range(len(array)-1, 0, -1): \n",
    "        # 遍历堆数组最后一个元素到第2个元素\n",
    "        # 最后一个元素和第一个元素进行交换\n",
    "        temp = array[i]\n",
    "        array[i] = array[0]\n",
    "        array[0] = temp\n",
    "        # 下沉调整最大堆\n",
    "        down_adjust(0, i, array) # \n",
    "\n",
    "def down_adjust(parent_index, length, array=[]):\n",
    "    \"\"\"down_adjust用于删除节点操作\"\"\"\n",
    "    # temp保存父节点值，用于最后的赋值\n",
    "    temp = array[parent_index]\n",
    "    child_index = 2 * parent_index + 1\n",
    "    while child_index < length: # 此处的小于号很巧妙，避免下沉操作时处理到最后一个max数\n",
    "        # 如果有右孩子，且右孩子的值大于左孩子的值，则定位到右孩子、\n",
    "        if child_index+1 < length and array[child_index+1] > array[child_index]:\n",
    "            child_index += 1\n",
    "        # 如果父节点的值大于等于任何一个孩子的值，直接跳出\n",
    "        if temp >= array[child_index]: # 用于构建最大堆\n",
    "            break\n",
    "        # 无须真正交换，单向赋值即可\n",
    "        array[parent_index] = array[child_index]\n",
    "        parent_index = child_index\n",
    "        child_index = 2 * child_index + 1\n",
    "    array[parent_index] = temp\n",
    "    \n",
    "my_array = list([3, 4, 14, 1, 5, 6, 7, 8, 1, -1, 0, 9, 11])\n",
    "heap_sort(my_array)\n",
    "print(my_array)"
   ]
  },
  {
   "cell_type": "markdown",
   "metadata": {},
   "source": [
    "**堆排序的空间复杂度**是O(1),因为没有开辟额外的集合空间。\n",
    "\n",
    "二叉堆的节点“下沉”调整方法时间复杂度是O(logn).\n",
    "\n",
    "堆排序算法的步骤：\n",
    "\n",
    "1. 把无序数组构建成二叉堆；\n",
    "2. 循环删除堆顶元素，并将该元素移到集合尾部，调整堆产生新的堆项。\n",
    "\n",
    "第一步，把无序数组构建成二叉堆，时间复杂度是O(n)。第二步，需要进行n-1次循环，每次循环调用一次`down_adjust`方法，计算规模是(n-1)*log n,时间复杂度是O(nlogn)。\n",
    "因为两个步骤是并列关系，整体时间复杂度是O(nlogn).\n",
    "\n",
    "堆排序和快速排序的区别与联系：\n",
    "\n",
    "* 相同点：堆排序和快速排序的平均时间复杂度都是O(nlogn),都是不稳定排序。\n",
    "* 不同点：快速排序的最坏时间复杂度是$O(n^2)$,而堆排序的最坏时间复杂度稳定在O(nlogn)。快速排序递归和非递归方法的平均空间复杂度都是O(logn)，而堆排序的空间复杂度是O(1)."
   ]
  },
  {
   "cell_type": "markdown",
   "metadata": {},
   "source": [
    "## 4.5 计数排序和桶排序\n",
    "\n",
    "### 4.5.1 线性时间的排序\n",
    "\n",
    "不基于元素比较的特殊排序，如**计数排序、桶排序、基数排序**。\n",
    "\n",
    "### 4.5.2 初识计数排序\n",
    "\n",
    "利用数组下标来确定元素的正确位置。\n",
    "\n",
    "计数排序适用于一定范围内的整数排序。在取值范围不是很大的情况下，它的性能甚至快过那些时间复杂度为$O(nlogn)$的排序。"
   ]
  },
  {
   "cell_type": "code",
   "execution_count": 2,
   "metadata": {
    "ExecuteTime": {
     "end_time": "2021-06-23T11:21:51.171428Z",
     "start_time": "2021-06-23T11:21:51.132089Z"
    }
   },
   "outputs": [
    {
     "name": "stdout",
     "output_type": "stream",
     "text": [
      "[0, 1, 2, 3, 4, 4, 5, 5, 6, 6, 7, 8, 10]\n"
     ]
    }
   ],
   "source": [
    "def count_sort(array=[]):\n",
    "    # 1.得到数列的最大值\n",
    "    max_value = array[0]\n",
    "    for i in range(1, len(array)):\n",
    "        if array[i] > max_value:\n",
    "            max_value = array[i]\n",
    "    # 2.根据数列最大值确定统计数组的长度\n",
    "    count_array = [0] * (max_value+1)\n",
    "    # 3.遍历数列，填充统计数组\n",
    "    for i in range(0, len(array)):\n",
    "        count_array[array[i]] += 1\n",
    "    # 4.遍历统计数组，输出结果\n",
    "    sorted_array = []\n",
    "    for i in range(0, len(count_array)):\n",
    "        for j in range(0, count_array[i]):\n",
    "            sorted_array.append(i)\n",
    "    return sorted_array\n",
    "\n",
    "my_array = list([4, 4, 6, 5, 3, 2, 8, 1, 7, 5, 6, 0, 10])\n",
    "print(count_sort(my_array))"
   ]
  },
  {
   "cell_type": "markdown",
   "metadata": {},
   "source": [
    "### 4.5.3 计数排序的优化\n",
    "\n",
    "解决数列最大值和最小值相差不大时的情况：\n",
    "\n",
    "只要不再以**输入数列的最大值+1**作为统计数组的长度，而是以**数列最大值-最小值+1**作为统计数组的长度即可。\n",
    "\n",
    "为了实现稳定排序：**从统计数组的第2个元素开始，每一个元素都加上前面所有元素之和.**"
   ]
  },
  {
   "cell_type": "code",
   "execution_count": 5,
   "metadata": {
    "ExecuteTime": {
     "end_time": "2021-06-23T11:41:37.480760Z",
     "start_time": "2021-06-23T11:41:37.466744Z"
    }
   },
   "outputs": [
    {
     "name": "stdout",
     "output_type": "stream",
     "text": [
      "[90, 91, 91, 92, 93, 94, 95, 98, 99, 99]\n"
     ]
    }
   ],
   "source": [
    "def count_sort_v2(array=[]):\n",
    "    # 1.得到数列的最大值最小值，并算出差值d\n",
    "    max_value = array[0]\n",
    "    min_value = array[0]\n",
    "    for i in range(1, len(array)):\n",
    "        if array[i] > max_value:\n",
    "            max_value = array[i]\n",
    "        if array[i] < min_value:\n",
    "            min_value = array[i]\n",
    "    d = max_value - min_value\n",
    "    # 2.创建统计数组并统计对应元素个数\n",
    "    count_array = [0] * (d+1)\n",
    "    for i in range(0, len(array)):\n",
    "        count_array[array[i]-min_value] += 1\n",
    "    # 3.统计数组做变形，后面的元素等于前面的元素之和\n",
    "    for i in range(1, len(array)):\n",
    "        count_array[i] += count_array[i-1]\n",
    "    # 4.倒序遍历原始数列，从统计数组找到正确位置，输出到结果数组\n",
    "    sorted_array = [0] * len(array)\n",
    "    for i in range(len(array)-1, -1, -1):\n",
    "        sorted_array[count_array[array[i]-min_value]-1] = array[i]\n",
    "        count_array[array[i] - min_value] -= 1\n",
    "    return sorted_array\n",
    "\n",
    "my_array = list([95, 94, 91, 98, 99, 90, 99, 93, 91, 92])\n",
    "print(count_sort_v2(my_array))"
   ]
  },
  {
   "cell_type": "markdown",
   "metadata": {},
   "source": [
    "计数排序时间复杂度：代码第1，2，4步都涉及遍历原始数列，运算量都是n，第3步遍历统计数列，运算量是m，所以总体运算量是3n+m，去掉系数，时间复杂度是$O(n+m)$\n",
    "\n",
    "空间复杂度：不考虑结果数组，只考虑统计数组大小的话，空间复杂度是$O(m)$.\n",
    "\n",
    "计数排序的局限性：\n",
    "\n",
    "1. 当数列最大和最小值差距过大时，并不适合用计数排序。\n",
    "\n",
    "2. 当数列元素不是整数时，也不适合用计数排序。"
   ]
  },
  {
   "cell_type": "markdown",
   "metadata": {},
   "source": [
    "### 4.5.4 什么是桶排序\n",
    "\n",
    "桶排序同样是一种线性时间的排序算法，类似于计数排序所创建的统计数组，桶排序需要创建若干个桶来协助排序。\n",
    "\n",
    "每一个桶代表一个区间范围，里面可以承载一个或多个元素。\n",
    "\n",
    "桶排序的工作原理：\n",
    "\n",
    "1. 创建桶，并确定每一个桶的区间范围。桶的数量和桶的区间范围有多种确定方式。此处，创建桶的数量，等于原始数列的元素数量，除最后一个桶只包含数列最大值外，前面桶的区间按照比例确定。\n",
    "\n",
    "2. 遍历原始数列，把元素对号入座放入各个桶中。\n",
    "\n",
    "3. 对每个桶内部的元素分别进行排序。\n",
    "\n",
    "4. 遍历所有的桶，输出所有元素。"
   ]
  },
  {
   "cell_type": "code",
   "execution_count": 6,
   "metadata": {
    "ExecuteTime": {
     "end_time": "2021-06-23T12:04:55.557770Z",
     "start_time": "2021-06-23T12:04:55.546226Z"
    }
   },
   "outputs": [
    {
     "name": "stdout",
     "output_type": "stream",
     "text": [
      "[0.0023, 2.123, 3.0, 4.12, 4.12, 6.421, 8.122, 10.09]\n"
     ]
    }
   ],
   "source": [
    "def bucket_sort(array=[]):\n",
    "    # 1.得到数列的最大值和最小值，并算出差值d\n",
    "    max_value = array[0]\n",
    "    min_value = array[0]\n",
    "    for i in range(1, len(array)):\n",
    "        if array[i] > max_value:\n",
    "            max_value = array[i]\n",
    "        if array[i] < min_value:\n",
    "            min_value = array[i]\n",
    "    d = max_value - min_value\n",
    "    # 2.初始化桶\n",
    "    bucket_num = len(array)\n",
    "    bucket_list = []\n",
    "    for i in range(0, bucket_num):\n",
    "        bucket_list.append([])\n",
    "    # 3.遍历原始数组，将每个元素放入桶中\n",
    "    for i in range(0, len(array)):\n",
    "        num = int((array[i]-min_value) * (bucket_num-1) / d)\n",
    "        bucket = bucket_list[num]\n",
    "        bucket.append(array[i])\n",
    "    # 4.对每个桶内部进行排序\n",
    "    for i in range(0, len(bucket_list)):\n",
    "        # list采用了归并排序或归并的优化版本\n",
    "        bucket_list[i].sort()\n",
    "    # 5.输出全部元素\n",
    "    sorted_array = []\n",
    "    for sub_list in bucket_list:\n",
    "        for element in sub_list:\n",
    "            sorted_array.append(element)\n",
    "    return sorted_array\n",
    "\n",
    "my_array = list([4.12, 6.421, 0.0023, 3.0, 2.123, 8.122, 4.12, 10.09])\n",
    "print(bucket_sort(my_array))"
   ]
  },
  {
   "cell_type": "markdown",
   "metadata": {},
   "source": [
    "桶排序的时间复杂度：\n",
    "\n",
    "1. 求数列最大值、最小值，运算量为n。\n",
    "\n",
    "2. 创建空桶，运算量为n。\n",
    "\n",
    "3. 把原始数列的元素分配到各个桶中，运算量为n。\n",
    "\n",
    "4. 在每个桶内部做排序，在元素分布相对均衡的情况下，所有桶的运算量之和为n。\n",
    "\n",
    "5. 输出排序数列，运算量为n。\n",
    "\n",
    "综上，桶排序的总体时间复杂度为$O(n)$.\n",
    "桶排序的性能并非绝对稳定，如果元素分布极端不均衡，极端情况下，第一个桶中有n-1个元素，最后一个桶中有1个元素，此时时间复杂度退化为$O(nlogn)$."
   ]
  },
  {
   "cell_type": "markdown",
   "metadata": {},
   "source": [
    "## 4.6 小结\n",
    "\n",
    "本章所学排序算法的时间复杂度、空间复杂度、是否稳定等维度的归纳。\n",
    "\n",
    "稳定排序：值相同的元素在排序后仍保持着排序前的顺序。\n",
    "不稳定排序：值相同的元素在排序后打乱了排序前的顺序。"
   ]
  },
  {
   "cell_type": "markdown",
   "metadata": {},
   "source": [
    "|  排序算法   | 平均时间复杂度  | 最坏时间复杂度 | 空间复杂度 | 是否稳定排序 |\n",
    "|  ----  | ----  | ----  | ----  | ----  |\n",
    "| 冒泡排序  | $O(n^2)$ | $O(n^2)$ | $O(1)$ | 稳定 |\n",
    "| 鸡尾酒排序  | $O(n^2)$ | $O(n^2)$ | $O(1)$ | 稳定  |\n",
    "| 快速排序  | $O(nlogn)$ | $O(n^2)$ | $O(logn)$ | 不稳定 |\n",
    "| 堆排序  | $O(nlogn)$ | $O(nlogn)$ | $O(1)$ | 不稳定 |\n",
    "| 计数排序  | $O(n+m)$ | $O(n+m)$ | $O(m)$ | 稳定 |\n",
    "| 桶排序  | $O(n)$ | $O(nlogn)$ | $O(n)$ | 稳定 |"
   ]
  },
  {
   "cell_type": "code",
   "execution_count": null,
   "metadata": {},
   "outputs": [],
   "source": []
  }
 ],
 "metadata": {
  "kernelspec": {
   "display_name": "Python 3",
   "language": "python",
   "name": "python3"
  },
  "language_info": {
   "codemirror_mode": {
    "name": "ipython",
    "version": 3
   },
   "file_extension": ".py",
   "mimetype": "text/x-python",
   "name": "python",
   "nbconvert_exporter": "python",
   "pygments_lexer": "ipython3",
   "version": "3.8.3"
  },
  "toc": {
   "base_numbering": 1,
   "nav_menu": {},
   "number_sections": true,
   "sideBar": true,
   "skip_h1_title": false,
   "title_cell": "Table of Contents",
   "title_sidebar": "Contents",
   "toc_cell": false,
   "toc_position": {
    "height": "calc(100% - 180px)",
    "left": "10px",
    "top": "150px",
    "width": "202.558px"
   },
   "toc_section_display": true,
   "toc_window_display": true
  },
  "varInspector": {
   "cols": {
    "lenName": 16,
    "lenType": 16,
    "lenVar": 40
   },
   "kernels_config": {
    "python": {
     "delete_cmd_postfix": "",
     "delete_cmd_prefix": "del ",
     "library": "var_list.py",
     "varRefreshCmd": "print(var_dic_list())"
    },
    "r": {
     "delete_cmd_postfix": ") ",
     "delete_cmd_prefix": "rm(",
     "library": "var_list.r",
     "varRefreshCmd": "cat(var_dic_list()) "
    }
   },
   "types_to_exclude": [
    "module",
    "function",
    "builtin_function_or_method",
    "instance",
    "_Feature"
   ],
   "window_display": false
  }
 },
 "nbformat": 4,
 "nbformat_minor": 4
}
