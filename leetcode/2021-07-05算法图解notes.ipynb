{
 "cells": [
  {
   "cell_type": "code",
   "execution_count": 3,
   "metadata": {},
   "outputs": [
    {
     "data": {
      "text/plain": [
       "2"
      ]
     },
     "execution_count": 3,
     "metadata": {},
     "output_type": "execute_result"
    }
   ],
   "source": [
    "from typing import List\r\n",
    "class Solution:\r\n",
    "    def __init__(self):\r\n",
    "        pass\r\n",
    "\r\n",
    "    def findPeakElement(self, nums: List[int]) -> int:\r\n",
    "        return Solution.search(nums, 0, len(nums) - 1)\r\n",
    "\r\n",
    "    def search(nums: List[int],l: int, r: int):\r\n",
    "        if (l == r): return l\r\n",
    "        mid = l + (r - l) // 2\r\n",
    "        if nums[mid] > nums[mid+1]:\r\n",
    "            return Solution.search(nums, l, mid)\r\n",
    "        return Solution.search(nums, mid + 1, r)\r\n",
    "        \r\n",
    "nums = [1,2,3,1]\r\n",
    "\r\n",
    "solution = Solution()\r\n",
    "solution.findPeakElement(nums)\r\n",
    "\r\n",
    "# NameError: name 'search' is not defined\r\n",
    "\r\n",
    "# 有趣，bug越来越多"
   ]
  },
  {
   "cell_type": "code",
   "execution_count": 4,
   "metadata": {},
   "outputs": [
    {
     "data": {
      "text/plain": [
       "2"
      ]
     },
     "execution_count": 4,
     "metadata": {},
     "output_type": "execute_result"
    }
   ],
   "source": [
    "from typing import List\r\n",
    "class Solution:\r\n",
    "    def __init__(self):\r\n",
    "        pass\r\n",
    "\r\n",
    "    def findPeakElement(self, nums: List[int]) -> int:\r\n",
    "        return self.search(nums, 0, len(nums) - 1)\r\n",
    "\r\n",
    "    def search(self, nums: List[int],l: int, r: int):\r\n",
    "        if (l == r): return l\r\n",
    "        mid = l + (r - l) // 2\r\n",
    "        if nums[mid] > nums[mid+1]:\r\n",
    "            return self.search(nums, l, mid)\r\n",
    "        return self.search(nums, mid + 1, r)\r\n",
    "        \r\n",
    "nums = [1,2,3,1]\r\n",
    "\r\n",
    "solution = Solution()\r\n",
    "solution.findPeakElement(nums)"
   ]
  }
 ],
 "metadata": {
  "interpreter": {
   "hash": "9c91df8a30f2ca0588df6ae5802e19be614d84a80266001c42d6a0fb9a071694"
  },
  "kernelspec": {
   "display_name": "Python 3.8.3 64-bit ('base': conda)",
   "name": "python3"
  },
  "language_info": {
   "codemirror_mode": {
    "name": "ipython",
    "version": 3
   },
   "file_extension": ".py",
   "mimetype": "text/x-python",
   "name": "python",
   "nbconvert_exporter": "python",
   "pygments_lexer": "ipython3",
   "version": "3.8.3"
  },
  "orig_nbformat": 4
 },
 "nbformat": 4,
 "nbformat_minor": 2
}